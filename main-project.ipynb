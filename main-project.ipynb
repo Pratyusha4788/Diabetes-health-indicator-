{
 "cells": [
  {
   "cell_type": "markdown",
   "id": "94ccffcd",
   "metadata": {
    "papermill": {
     "duration": 0.009725,
     "end_time": "2025-01-02T19:50:47.784936",
     "exception": false,
     "start_time": "2025-01-02T19:50:47.775211",
     "status": "completed"
    },
    "tags": []
   },
   "source": [
    "# 1. Importing Dataset"
   ]
  },
  {
   "cell_type": "code",
   "execution_count": null,
   "id": "997d26d8",
   "metadata": {
    "_cell_guid": "b1076dfc-b9ad-4769-8c92-a6c4dae69d19",
    "_uuid": "8f2839f25d086af736a60e9eeb907d3b93b6e0e5",
    "execution": {
     "iopub.execute_input": "2025-01-02T19:50:47.806265Z",
     "iopub.status.busy": "2025-01-02T19:50:47.805821Z",
     "iopub.status.idle": "2025-01-02T19:50:48.603249Z",
     "shell.execute_reply": "2025-01-02T19:50:48.602437Z"
    },
    "papermill": {
     "duration": 0.810215,
     "end_time": "2025-01-02T19:50:48.605524",
     "exception": false,
     "start_time": "2025-01-02T19:50:47.795309",
     "status": "completed"
    },
    "tags": []
   },
   "outputs": [],
   "source": [
    "import numpy as np \n",
    "import pandas as pd \n",
    "\n",
    "\n",
    "\n",
    "import os\n",
    "for dirname, _, filenames in os.walk('diabetes_012_health_indicators_BRFSS2015.csv'):\n",
    "    for filename in filenames:\n",
    "        print(os.path.join(dirname, filename))\n",
    "\n"
   ]
  },
  {
   "cell_type": "code",
   "execution_count": 2,
   "id": "813e546c",
   "metadata": {
    "execution": {
     "iopub.execute_input": "2025-01-02T19:50:48.625831Z",
     "iopub.status.busy": "2025-01-02T19:50:48.624910Z",
     "iopub.status.idle": "2025-01-02T19:50:49.315241Z",
     "shell.execute_reply": "2025-01-02T19:50:49.314173Z"
    },
    "papermill": {
     "duration": 0.702906,
     "end_time": "2025-01-02T19:50:49.317653",
     "exception": false,
     "start_time": "2025-01-02T19:50:48.614747",
     "status": "completed"
    },
    "tags": []
   },
   "outputs": [],
   "source": [
    "file_path = 'diabetes_012_health_indicators_BRFSS2015.csv'\n",
    "\n",
    "dataframe = pd.read_csv(file_path)"
   ]
  },
  {
   "cell_type": "markdown",
   "id": "d8b92c3c",
   "metadata": {
    "papermill": {
     "duration": 0.008864,
     "end_time": "2025-01-02T19:50:49.335808",
     "exception": false,
     "start_time": "2025-01-02T19:50:49.326944",
     "status": "completed"
    },
    "tags": []
   },
   "source": [
    "# 2. Describing Dataset"
   ]
  },
  {
   "cell_type": "code",
   "execution_count": 3,
   "id": "44f720f8",
   "metadata": {
    "execution": {
     "iopub.execute_input": "2025-01-02T19:50:49.355597Z",
     "iopub.status.busy": "2025-01-02T19:50:49.355241Z",
     "iopub.status.idle": "2025-01-02T19:50:49.390185Z",
     "shell.execute_reply": "2025-01-02T19:50:49.389148Z"
    },
    "papermill": {
     "duration": 0.0473,
     "end_time": "2025-01-02T19:50:49.392216",
     "exception": false,
     "start_time": "2025-01-02T19:50:49.344916",
     "status": "completed"
    },
    "tags": []
   },
   "outputs": [
    {
     "data": {
      "text/html": [
       "<div>\n",
       "<style scoped>\n",
       "    .dataframe tbody tr th:only-of-type {\n",
       "        vertical-align: middle;\n",
       "    }\n",
       "\n",
       "    .dataframe tbody tr th {\n",
       "        vertical-align: top;\n",
       "    }\n",
       "\n",
       "    .dataframe thead th {\n",
       "        text-align: right;\n",
       "    }\n",
       "</style>\n",
       "<table border=\"1\" class=\"dataframe\">\n",
       "  <thead>\n",
       "    <tr style=\"text-align: right;\">\n",
       "      <th></th>\n",
       "      <th>Diabetes_012</th>\n",
       "      <th>HighBP</th>\n",
       "      <th>HighChol</th>\n",
       "      <th>CholCheck</th>\n",
       "      <th>BMI</th>\n",
       "      <th>Smoker</th>\n",
       "      <th>Stroke</th>\n",
       "      <th>HeartDiseaseorAttack</th>\n",
       "      <th>PhysActivity</th>\n",
       "      <th>Fruits</th>\n",
       "      <th>...</th>\n",
       "      <th>AnyHealthcare</th>\n",
       "      <th>NoDocbcCost</th>\n",
       "      <th>GenHlth</th>\n",
       "      <th>MentHlth</th>\n",
       "      <th>PhysHlth</th>\n",
       "      <th>DiffWalk</th>\n",
       "      <th>Sex</th>\n",
       "      <th>Age</th>\n",
       "      <th>Education</th>\n",
       "      <th>Income</th>\n",
       "    </tr>\n",
       "  </thead>\n",
       "  <tbody>\n",
       "    <tr>\n",
       "      <th>0</th>\n",
       "      <td>0.0</td>\n",
       "      <td>1.0</td>\n",
       "      <td>1.0</td>\n",
       "      <td>1.0</td>\n",
       "      <td>40.0</td>\n",
       "      <td>1.0</td>\n",
       "      <td>0.0</td>\n",
       "      <td>0.0</td>\n",
       "      <td>0.0</td>\n",
       "      <td>0.0</td>\n",
       "      <td>...</td>\n",
       "      <td>1.0</td>\n",
       "      <td>0.0</td>\n",
       "      <td>5.0</td>\n",
       "      <td>18.0</td>\n",
       "      <td>15.0</td>\n",
       "      <td>1.0</td>\n",
       "      <td>0.0</td>\n",
       "      <td>9.0</td>\n",
       "      <td>4.0</td>\n",
       "      <td>3.0</td>\n",
       "    </tr>\n",
       "    <tr>\n",
       "      <th>1</th>\n",
       "      <td>0.0</td>\n",
       "      <td>0.0</td>\n",
       "      <td>0.0</td>\n",
       "      <td>0.0</td>\n",
       "      <td>25.0</td>\n",
       "      <td>1.0</td>\n",
       "      <td>0.0</td>\n",
       "      <td>0.0</td>\n",
       "      <td>1.0</td>\n",
       "      <td>0.0</td>\n",
       "      <td>...</td>\n",
       "      <td>0.0</td>\n",
       "      <td>1.0</td>\n",
       "      <td>3.0</td>\n",
       "      <td>0.0</td>\n",
       "      <td>0.0</td>\n",
       "      <td>0.0</td>\n",
       "      <td>0.0</td>\n",
       "      <td>7.0</td>\n",
       "      <td>6.0</td>\n",
       "      <td>1.0</td>\n",
       "    </tr>\n",
       "    <tr>\n",
       "      <th>2</th>\n",
       "      <td>0.0</td>\n",
       "      <td>1.0</td>\n",
       "      <td>1.0</td>\n",
       "      <td>1.0</td>\n",
       "      <td>28.0</td>\n",
       "      <td>0.0</td>\n",
       "      <td>0.0</td>\n",
       "      <td>0.0</td>\n",
       "      <td>0.0</td>\n",
       "      <td>1.0</td>\n",
       "      <td>...</td>\n",
       "      <td>1.0</td>\n",
       "      <td>1.0</td>\n",
       "      <td>5.0</td>\n",
       "      <td>30.0</td>\n",
       "      <td>30.0</td>\n",
       "      <td>1.0</td>\n",
       "      <td>0.0</td>\n",
       "      <td>9.0</td>\n",
       "      <td>4.0</td>\n",
       "      <td>8.0</td>\n",
       "    </tr>\n",
       "    <tr>\n",
       "      <th>3</th>\n",
       "      <td>0.0</td>\n",
       "      <td>1.0</td>\n",
       "      <td>0.0</td>\n",
       "      <td>1.0</td>\n",
       "      <td>27.0</td>\n",
       "      <td>0.0</td>\n",
       "      <td>0.0</td>\n",
       "      <td>0.0</td>\n",
       "      <td>1.0</td>\n",
       "      <td>1.0</td>\n",
       "      <td>...</td>\n",
       "      <td>1.0</td>\n",
       "      <td>0.0</td>\n",
       "      <td>2.0</td>\n",
       "      <td>0.0</td>\n",
       "      <td>0.0</td>\n",
       "      <td>0.0</td>\n",
       "      <td>0.0</td>\n",
       "      <td>11.0</td>\n",
       "      <td>3.0</td>\n",
       "      <td>6.0</td>\n",
       "    </tr>\n",
       "    <tr>\n",
       "      <th>4</th>\n",
       "      <td>0.0</td>\n",
       "      <td>1.0</td>\n",
       "      <td>1.0</td>\n",
       "      <td>1.0</td>\n",
       "      <td>24.0</td>\n",
       "      <td>0.0</td>\n",
       "      <td>0.0</td>\n",
       "      <td>0.0</td>\n",
       "      <td>1.0</td>\n",
       "      <td>1.0</td>\n",
       "      <td>...</td>\n",
       "      <td>1.0</td>\n",
       "      <td>0.0</td>\n",
       "      <td>2.0</td>\n",
       "      <td>3.0</td>\n",
       "      <td>0.0</td>\n",
       "      <td>0.0</td>\n",
       "      <td>0.0</td>\n",
       "      <td>11.0</td>\n",
       "      <td>5.0</td>\n",
       "      <td>4.0</td>\n",
       "    </tr>\n",
       "  </tbody>\n",
       "</table>\n",
       "<p>5 rows × 22 columns</p>\n",
       "</div>"
      ],
      "text/plain": [
       "   Diabetes_012  HighBP  HighChol  CholCheck   BMI  Smoker  Stroke  \\\n",
       "0           0.0     1.0       1.0        1.0  40.0     1.0     0.0   \n",
       "1           0.0     0.0       0.0        0.0  25.0     1.0     0.0   \n",
       "2           0.0     1.0       1.0        1.0  28.0     0.0     0.0   \n",
       "3           0.0     1.0       0.0        1.0  27.0     0.0     0.0   \n",
       "4           0.0     1.0       1.0        1.0  24.0     0.0     0.0   \n",
       "\n",
       "   HeartDiseaseorAttack  PhysActivity  Fruits  ...  AnyHealthcare  \\\n",
       "0                   0.0           0.0     0.0  ...            1.0   \n",
       "1                   0.0           1.0     0.0  ...            0.0   \n",
       "2                   0.0           0.0     1.0  ...            1.0   \n",
       "3                   0.0           1.0     1.0  ...            1.0   \n",
       "4                   0.0           1.0     1.0  ...            1.0   \n",
       "\n",
       "   NoDocbcCost  GenHlth  MentHlth  PhysHlth  DiffWalk  Sex   Age  Education  \\\n",
       "0          0.0      5.0      18.0      15.0       1.0  0.0   9.0        4.0   \n",
       "1          1.0      3.0       0.0       0.0       0.0  0.0   7.0        6.0   \n",
       "2          1.0      5.0      30.0      30.0       1.0  0.0   9.0        4.0   \n",
       "3          0.0      2.0       0.0       0.0       0.0  0.0  11.0        3.0   \n",
       "4          0.0      2.0       3.0       0.0       0.0  0.0  11.0        5.0   \n",
       "\n",
       "   Income  \n",
       "0     3.0  \n",
       "1     1.0  \n",
       "2     8.0  \n",
       "3     6.0  \n",
       "4     4.0  \n",
       "\n",
       "[5 rows x 22 columns]"
      ]
     },
     "execution_count": 3,
     "metadata": {},
     "output_type": "execute_result"
    }
   ],
   "source": [
    "dataframe.head()"
   ]
  },
  {
   "cell_type": "code",
   "execution_count": 4,
   "id": "ac63a81e",
   "metadata": {
    "execution": {
     "iopub.execute_input": "2025-01-02T19:50:49.413131Z",
     "iopub.status.busy": "2025-01-02T19:50:49.412418Z",
     "iopub.status.idle": "2025-01-02T19:50:49.430852Z",
     "shell.execute_reply": "2025-01-02T19:50:49.429777Z"
    },
    "papermill": {
     "duration": 0.031012,
     "end_time": "2025-01-02T19:50:49.432866",
     "exception": false,
     "start_time": "2025-01-02T19:50:49.401854",
     "status": "completed"
    },
    "tags": []
   },
   "outputs": [
    {
     "data": {
      "text/plain": [
       "Diabetes_012            0\n",
       "HighBP                  0\n",
       "HighChol                0\n",
       "CholCheck               0\n",
       "BMI                     0\n",
       "Smoker                  0\n",
       "Stroke                  0\n",
       "HeartDiseaseorAttack    0\n",
       "PhysActivity            0\n",
       "Fruits                  0\n",
       "Veggies                 0\n",
       "HvyAlcoholConsump       0\n",
       "AnyHealthcare           0\n",
       "NoDocbcCost             0\n",
       "GenHlth                 0\n",
       "MentHlth                0\n",
       "PhysHlth                0\n",
       "DiffWalk                0\n",
       "Sex                     0\n",
       "Age                     0\n",
       "Education               0\n",
       "Income                  0\n",
       "dtype: int64"
      ]
     },
     "execution_count": 4,
     "metadata": {},
     "output_type": "execute_result"
    }
   ],
   "source": [
    "dataframe.isnull().sum()"
   ]
  },
  {
   "cell_type": "code",
   "execution_count": 6,
   "id": "c7f317de",
   "metadata": {
    "execution": {
     "iopub.execute_input": "2025-01-02T19:50:49.453744Z",
     "iopub.status.busy": "2025-01-02T19:50:49.452839Z",
     "iopub.status.idle": "2025-01-02T19:50:50.976751Z",
     "shell.execute_reply": "2025-01-02T19:50:50.975749Z"
    },
    "papermill": {
     "duration": 1.536724,
     "end_time": "2025-01-02T19:50:50.979163",
     "exception": false,
     "start_time": "2025-01-02T19:50:49.442439",
     "status": "completed"
    },
    "tags": []
   },
   "outputs": [],
   "source": [
    "import matplotlib.pyplot as plt\n",
    "import seaborn as sns"
   ]
  },
  {
   "cell_type": "code",
   "execution_count": 7,
   "id": "95d01019",
   "metadata": {
    "execution": {
     "iopub.execute_input": "2025-01-02T19:50:51.000940Z",
     "iopub.status.busy": "2025-01-02T19:50:50.999728Z",
     "iopub.status.idle": "2025-01-02T19:50:52.527899Z",
     "shell.execute_reply": "2025-01-02T19:50:52.526885Z"
    },
    "papermill": {
     "duration": 1.541234,
     "end_time": "2025-01-02T19:50:52.530180",
     "exception": false,
     "start_time": "2025-01-02T19:50:50.988946",
     "status": "completed"
    },
    "tags": []
   },
   "outputs": [
    {
     "data": {
      "image/png": "[encoded data removed]",
      "text/plain": [
       "<Figure size 800x600 with 1 Axes>"
      ]
     },
     "metadata": {},
     "output_type": "display_data"
    }
   ],
   "source": [
    "plt.figure(figsize=(8,6))\n",
    "sns.histplot(dataframe['BMI'],bins=50,kde=True)\n",
    "plt.title('Diabetes Report')\n",
    "plt.xlabel(\"Age,HighBP,HighChol,CholCHeck,BMI,Smoker,HeartDiseaseorAttack,PhysActivity,Fruits,Veggies,HvyAlcoholConsump,AnyHealthcare,NoDocbcCost,GenHlth,MentHlth,PhysHlth,DiffWalk,Sex,Education,Income\")\n",
    "plt.ylabel(\"Diabetes_012\")\n",
    "plt.show()"
   ]
  },
  {
   "cell_type": "code",
   "execution_count": 8,
   "id": "1bc59012",
   "metadata": {
    "execution": {
     "iopub.execute_input": "2025-01-02T19:50:52.553060Z",
     "iopub.status.busy": "2025-01-02T19:50:52.552029Z",
     "iopub.status.idle": "2025-01-02T19:50:52.568499Z",
     "shell.execute_reply": "2025-01-02T19:50:52.567471Z"
    },
    "papermill": {
     "duration": 0.030157,
     "end_time": "2025-01-02T19:50:52.570706",
     "exception": false,
     "start_time": "2025-01-02T19:50:52.540549",
     "status": "completed"
    },
    "tags": []
   },
   "outputs": [
    {
     "data": {
      "text/plain": [
       "Diabetes_012            0\n",
       "HighBP                  0\n",
       "HighChol                0\n",
       "CholCheck               0\n",
       "BMI                     0\n",
       "Smoker                  0\n",
       "Stroke                  0\n",
       "HeartDiseaseorAttack    0\n",
       "PhysActivity            0\n",
       "Fruits                  0\n",
       "Veggies                 0\n",
       "HvyAlcoholConsump       0\n",
       "AnyHealthcare           0\n",
       "NoDocbcCost             0\n",
       "GenHlth                 0\n",
       "MentHlth                0\n",
       "PhysHlth                0\n",
       "DiffWalk                0\n",
       "Sex                     0\n",
       "Age                     0\n",
       "Education               0\n",
       "Income                  0\n",
       "dtype: int64"
      ]
     },
     "execution_count": 8,
     "metadata": {},
     "output_type": "execute_result"
    }
   ],
   "source": [
    "dataframe.isnull().sum()"
   ]
  },
  {
   "cell_type": "code",
   "execution_count": 9,
   "id": "aa840d7f",
   "metadata": {
    "execution": {
     "iopub.execute_input": "2025-01-02T19:50:52.593320Z",
     "iopub.status.busy": "2025-01-02T19:50:52.592618Z",
     "iopub.status.idle": "2025-01-02T19:50:52.622543Z",
     "shell.execute_reply": "2025-01-02T19:50:52.621431Z"
    },
    "papermill": {
     "duration": 0.043718,
     "end_time": "2025-01-02T19:50:52.624835",
     "exception": false,
     "start_time": "2025-01-02T19:50:52.581117",
     "status": "completed"
    },
    "tags": []
   },
   "outputs": [
    {
     "name": "stdout",
     "output_type": "stream",
     "text": [
      "<class 'pandas.core.frame.DataFrame'>\n",
      "RangeIndex: 253680 entries, 0 to 253679\n",
      "Data columns (total 22 columns):\n",
      " #   Column                Non-Null Count   Dtype  \n",
      "---  ------                --------------   -----  \n",
      " 0   Diabetes_012          253680 non-null  float64\n",
      " 1   HighBP                253680 non-null  float64\n",
      " 2   HighChol              253680 non-null  float64\n",
      " 3   CholCheck             253680 non-null  float64\n",
      " 4   BMI                   253680 non-null  float64\n",
      " 5   Smoker                253680 non-null  float64\n",
      " 6   Stroke                253680 non-null  float64\n",
      " 7   HeartDiseaseorAttack  253680 non-null  float64\n",
      " 8   PhysActivity          253680 non-null  float64\n",
      " 9   Fruits                253680 non-null  float64\n",
      " 10  Veggies               253680 non-null  float64\n",
      " 11  HvyAlcoholConsump     253680 non-null  float64\n",
      " 12  AnyHealthcare         253680 non-null  float64\n",
      " 13  NoDocbcCost           253680 non-null  float64\n",
      " 14  GenHlth               253680 non-null  float64\n",
      " 15  MentHlth              253680 non-null  float64\n",
      " 16  PhysHlth              253680 non-null  float64\n",
      " 17  DiffWalk              253680 non-null  float64\n",
      " 18  Sex                   253680 non-null  float64\n",
      " 19  Age                   253680 non-null  float64\n",
      " 20  Education             253680 non-null  float64\n",
      " 21  Income                253680 non-null  float64\n",
      "dtypes: float64(22)\n",
      "memory usage: 42.6 MB\n"
     ]
    }
   ],
   "source": [
    "dataframe.info()"
   ]
  },
  {
   "cell_type": "markdown",
   "id": "b402dbd5",
   "metadata": {
    "papermill": {
     "duration": 0.010051,
     "end_time": "2025-01-02T19:50:52.645905",
     "exception": false,
     "start_time": "2025-01-02T19:50:52.635854",
     "status": "completed"
    },
    "tags": []
   },
   "source": [
    "conversion of float to int\n"
   ]
  },
  {
   "cell_type": "markdown",
   "id": "6ea78f25",
   "metadata": {
    "papermill": {
     "duration": 0.010008,
     "end_time": "2025-01-02T19:50:52.666215",
     "exception": false,
     "start_time": "2025-01-02T19:50:52.656207",
     "status": "completed"
    },
    "tags": []
   },
   "source": [
    "# 3. Data Preprocessing"
   ]
  },
  {
   "cell_type": "code",
   "execution_count": 10,
   "id": "7b2b456e",
   "metadata": {
    "execution": {
     "iopub.execute_input": "2025-01-02T19:50:52.694692Z",
     "iopub.status.busy": "2025-01-02T19:50:52.694303Z",
     "iopub.status.idle": "2025-01-02T19:50:52.805130Z",
     "shell.execute_reply": "2025-01-02T19:50:52.803886Z"
    },
    "papermill": {
     "duration": 0.128426,
     "end_time": "2025-01-02T19:50:52.808569",
     "exception": false,
     "start_time": "2025-01-02T19:50:52.680143",
     "status": "completed"
    },
    "tags": []
   },
   "outputs": [],
   "source": [
    "float_columns = dataframe.select_dtypes(include=['float']).columns\n",
    "dataframe[float_columns] = dataframe[float_columns].astype(int) \n"
   ]
  },
  {
   "cell_type": "code",
   "execution_count": 11,
   "id": "737a5647",
   "metadata": {
    "execution": {
     "iopub.execute_input": "2025-01-02T19:50:52.838961Z",
     "iopub.status.busy": "2025-01-02T19:50:52.838630Z",
     "iopub.status.idle": "2025-01-02T19:50:52.865225Z",
     "shell.execute_reply": "2025-01-02T19:50:52.864181Z"
    },
    "papermill": {
     "duration": 0.042499,
     "end_time": "2025-01-02T19:50:52.867704",
     "exception": false,
     "start_time": "2025-01-02T19:50:52.825205",
     "status": "completed"
    },
    "tags": []
   },
   "outputs": [
    {
     "name": "stdout",
     "output_type": "stream",
     "text": [
      "<class 'pandas.core.frame.DataFrame'>\n",
      "RangeIndex: 253680 entries, 0 to 253679\n",
      "Data columns (total 22 columns):\n",
      " #   Column                Non-Null Count   Dtype\n",
      "---  ------                --------------   -----\n",
      " 0   Diabetes_012          253680 non-null  int64\n",
      " 1   HighBP                253680 non-null  int64\n",
      " 2   HighChol              253680 non-null  int64\n",
      " 3   CholCheck             253680 non-null  int64\n",
      " 4   BMI                   253680 non-null  int64\n",
      " 5   Smoker                253680 non-null  int64\n",
      " 6   Stroke                253680 non-null  int64\n",
      " 7   HeartDiseaseorAttack  253680 non-null  int64\n",
      " 8   PhysActivity          253680 non-null  int64\n",
      " 9   Fruits                253680 non-null  int64\n",
      " 10  Veggies               253680 non-null  int64\n",
      " 11  HvyAlcoholConsump     253680 non-null  int64\n",
      " 12  AnyHealthcare         253680 non-null  int64\n",
      " 13  NoDocbcCost           253680 non-null  int64\n",
      " 14  GenHlth               253680 non-null  int64\n",
      " 15  MentHlth              253680 non-null  int64\n",
      " 16  PhysHlth              253680 non-null  int64\n",
      " 17  DiffWalk              253680 non-null  int64\n",
      " 18  Sex                   253680 non-null  int64\n",
      " 19  Age                   253680 non-null  int64\n",
      " 20  Education             253680 non-null  int64\n",
      " 21  Income                253680 non-null  int64\n",
      "dtypes: int64(22)\n",
      "memory usage: 42.6 MB\n"
     ]
    }
   ],
   "source": [
    "dataframe.info()"
   ]
  },
  {
   "cell_type": "code",
   "execution_count": 12,
   "id": "05d211e4",
   "metadata": {
    "execution": {
     "iopub.execute_input": "2025-01-02T19:50:52.890808Z",
     "iopub.status.busy": "2025-01-02T19:50:52.890468Z",
     "iopub.status.idle": "2025-01-02T19:50:52.899503Z",
     "shell.execute_reply": "2025-01-02T19:50:52.898495Z"
    },
    "papermill": {
     "duration": 0.023044,
     "end_time": "2025-01-02T19:50:52.901719",
     "exception": false,
     "start_time": "2025-01-02T19:50:52.878675",
     "status": "completed"
    },
    "tags": []
   },
   "outputs": [
    {
     "name": "stdout",
     "output_type": "stream",
     "text": [
      "Diabetes_012\n",
      "0    213703\n",
      "2     35346\n",
      "1      4631\n",
      "Name: count, dtype: int64\n"
     ]
    }
   ],
   "source": [
    "print(dataframe['Diabetes_012'].value_counts())"
   ]
  },
  {
   "cell_type": "code",
   "execution_count": 13,
   "id": "0dcacea3",
   "metadata": {
    "execution": {
     "iopub.execute_input": "2025-01-02T19:50:52.924789Z",
     "iopub.status.busy": "2025-01-02T19:50:52.924452Z",
     "iopub.status.idle": "2025-01-02T19:51:08.385882Z",
     "shell.execute_reply": "2025-01-02T19:51:08.384864Z"
    },
    "papermill": {
     "duration": 15.475714,
     "end_time": "2025-01-02T19:51:08.388337",
     "exception": false,
     "start_time": "2025-01-02T19:50:52.912623",
     "status": "completed"
    },
    "tags": []
   },
   "outputs": [
    {
     "name": "stdout",
     "output_type": "stream",
     "text": [
      "Collecting scikit-learn\n",
      "  Downloading scikit_learn-1.6.1-cp312-cp312-win_amd64.whl.metadata (15 kB)\n",
      "Requirement already satisfied: numpy>=1.19.5 in c:\\users\\win11\\appdata\\local\\programs\\python\\python312\\lib\\site-packages (from scikit-learn) (2.0.0)\n",
      "Collecting scipy>=1.6.0 (from scikit-learn)\n",
      "  Downloading scipy-1.15.1-cp312-cp312-win_amd64.whl.metadata (60 kB)\n",
      "Collecting joblib>=1.2.0 (from scikit-learn)\n",
      "  Downloading joblib-1.4.2-py3-none-any.whl.metadata (5.4 kB)\n",
      "Collecting threadpoolctl>=3.1.0 (from scikit-learn)\n",
      "  Downloading threadpoolctl-3.5.0-py3-none-any.whl.metadata (13 kB)\n",
      "Downloading scikit_learn-1.6.1-cp312-cp312-win_amd64.whl (11.1 MB)\n",
      "   ---------------------------------------- 0.0/11.1 MB ? eta -:--:--\n",
      "    --------------------------------------- 0.3/11.1 MB ? eta -:--:--\n",
      "   -- ------------------------------------- 0.8/11.1 MB 2.8 MB/s eta 0:00:04\n",
      "   ----- ---------------------------------- 1.6/11.1 MB 3.0 MB/s eta 0:00:04\n",
      "   -------- ------------------------------- 2.4/11.1 MB 3.1 MB/s eta 0:00:03\n",
      "   ----------- ---------------------------- 3.1/11.1 MB 3.3 MB/s eta 0:00:03\n",
      "   -------------- ------------------------- 3.9/11.1 MB 3.3 MB/s eta 0:00:03\n",
      "   ---------------- ----------------------- 4.7/11.1 MB 3.4 MB/s eta 0:00:02\n",
      "   ------------------- -------------------- 5.5/11.1 MB 3.4 MB/s eta 0:00:02\n",
      "   ---------------------- ----------------- 6.3/11.1 MB 3.4 MB/s eta 0:00:02\n",
      "   ------------------------ --------------- 6.8/11.1 MB 3.5 MB/s eta 0:00:02\n",
      "   --------------------------- ------------ 7.6/11.1 MB 3.5 MB/s eta 0:00:02\n",
      "   ----------------------------- ---------- 8.1/11.1 MB 3.5 MB/s eta 0:00:01\n",
      "   -------------------------------- ------- 8.9/11.1 MB 3.4 MB/s eta 0:00:01\n",
      "   ---------------------------------- ----- 9.7/11.1 MB 3.4 MB/s eta 0:00:01\n",
      "   ------------------------------------- -- 10.5/11.1 MB 3.4 MB/s eta 0:00:01\n",
      "   ---------------------------------------- 11.1/11.1 MB 3.4 MB/s eta 0:00:00\n",
      "Downloading joblib-1.4.2-py3-none-any.whl (301 kB)\n",
      "Downloading scipy-1.15.1-cp312-cp312-win_amd64.whl (43.6 MB)\n",
      "   ---------------------------------------- 0.0/43.6 MB ? eta -:--:--\n",
      "    --------------------------------------- 0.8/43.6 MB 4.8 MB/s eta 0:00:09\n",
      "   - -------------------------------------- 1.8/43.6 MB 5.0 MB/s eta 0:00:09\n",
      "   -- ------------------------------------- 2.6/43.6 MB 4.6 MB/s eta 0:00:09\n",
      "   -- ------------------------------------- 3.1/43.6 MB 3.8 MB/s eta 0:00:11\n",
      "   --- ------------------------------------ 3.7/43.6 MB 3.7 MB/s eta 0:00:11\n",
      "   ---- ----------------------------------- 4.7/43.6 MB 3.9 MB/s eta 0:00:11\n",
      "   ----- ---------------------------------- 6.0/43.6 MB 4.2 MB/s eta 0:00:09\n",
      "   ------ --------------------------------- 7.6/43.6 MB 4.6 MB/s eta 0:00:08\n",
      "   -------- ------------------------------- 9.4/43.6 MB 5.0 MB/s eta 0:00:07\n",
      "   --------- ------------------------------ 10.7/43.6 MB 5.2 MB/s eta 0:00:07\n",
      "   ----------- ---------------------------- 12.3/43.6 MB 5.4 MB/s eta 0:00:06\n",
      "   ------------ --------------------------- 13.9/43.6 MB 5.6 MB/s eta 0:00:06\n",
      "   -------------- ------------------------- 15.7/43.6 MB 5.8 MB/s eta 0:00:05\n",
      "   --------------- ------------------------ 17.3/43.6 MB 5.9 MB/s eta 0:00:05\n",
      "   ----------------- ---------------------- 18.6/43.6 MB 6.0 MB/s eta 0:00:05\n",
      "   ------------------ --------------------- 19.9/43.6 MB 6.0 MB/s eta 0:00:04\n",
      "   ------------------- -------------------- 21.5/43.6 MB 6.0 MB/s eta 0:00:04\n",
      "   -------------------- ------------------- 22.5/43.6 MB 6.0 MB/s eta 0:00:04\n",
      "   --------------------- ------------------ 23.6/43.6 MB 5.9 MB/s eta 0:00:04\n",
      "   ---------------------- ----------------- 24.6/43.6 MB 5.9 MB/s eta 0:00:04\n",
      "   ----------------------- ---------------- 26.0/43.6 MB 5.9 MB/s eta 0:00:03\n",
      "   ------------------------ --------------- 27.0/43.6 MB 5.9 MB/s eta 0:00:03\n",
      "   ------------------------- -------------- 28.0/43.6 MB 5.8 MB/s eta 0:00:03\n",
      "   -------------------------- ------------- 29.1/43.6 MB 5.8 MB/s eta 0:00:03\n",
      "   --------------------------- ------------ 30.1/43.6 MB 5.8 MB/s eta 0:00:03\n",
      "   ---------------------------- ----------- 31.2/43.6 MB 5.8 MB/s eta 0:00:03\n",
      "   ----------------------------- ---------- 32.5/43.6 MB 5.7 MB/s eta 0:00:02\n",
      "   ------------------------------ --------- 33.6/43.6 MB 5.7 MB/s eta 0:00:02\n",
      "   ------------------------------- -------- 34.6/43.6 MB 5.7 MB/s eta 0:00:02\n",
      "   -------------------------------- ------- 35.4/43.6 MB 5.7 MB/s eta 0:00:02\n",
      "   --------------------------------- ------ 36.4/43.6 MB 5.6 MB/s eta 0:00:02\n",
      "   ---------------------------------- ----- 37.5/43.6 MB 5.6 MB/s eta 0:00:02\n",
      "   ----------------------------------- ---- 38.5/43.6 MB 5.6 MB/s eta 0:00:01\n",
      "   ------------------------------------ --- 39.6/43.6 MB 5.6 MB/s eta 0:00:01\n",
      "   ------------------------------------ --- 40.1/43.6 MB 5.5 MB/s eta 0:00:01\n",
      "   ------------------------------------- -- 40.6/43.6 MB 5.4 MB/s eta 0:00:01\n",
      "   ------------------------------------- -- 41.4/43.6 MB 5.3 MB/s eta 0:00:01\n",
      "   -------------------------------------- - 41.9/43.6 MB 5.3 MB/s eta 0:00:01\n",
      "   ---------------------------------------  42.7/43.6 MB 5.2 MB/s eta 0:00:01\n",
      "   ---------------------------------------  43.5/43.6 MB 5.2 MB/s eta 0:00:01\n",
      "   ---------------------------------------- 43.6/43.6 MB 5.1 MB/s eta 0:00:00\n",
      "Downloading threadpoolctl-3.5.0-py3-none-any.whl (18 kB)\n",
      "Installing collected packages: threadpoolctl, scipy, joblib, scikit-learn\n",
      "Successfully installed joblib-1.4.2 scikit-learn-1.6.1 scipy-1.15.1 threadpoolctl-3.5.0\n"
     ]
    }
   ],
   "source": [
    "! pip install -U scikit-learn"
   ]
  },
  {
   "cell_type": "markdown",
   "id": "a7179607",
   "metadata": {
    "papermill": {
     "duration": 0.011349,
     "end_time": "2025-01-02T19:51:08.411486",
     "exception": false,
     "start_time": "2025-01-02T19:51:08.400137",
     "status": "completed"
    },
    "tags": []
   },
   "source": [
    "# 4. Defining X (Categorical Features) and y (labels)"
   ]
  },
  {
   "cell_type": "code",
   "execution_count": 14,
   "id": "9bfe59aa",
   "metadata": {
    "execution": {
     "iopub.execute_input": "2025-01-02T19:51:08.436261Z",
     "iopub.status.busy": "2025-01-02T19:51:08.435840Z",
     "iopub.status.idle": "2025-01-02T19:51:08.482426Z",
     "shell.execute_reply": "2025-01-02T19:51:08.481579Z"
    },
    "papermill": {
     "duration": 0.061666,
     "end_time": "2025-01-02T19:51:08.484605",
     "exception": false,
     "start_time": "2025-01-02T19:51:08.422939",
     "status": "completed"
    },
    "tags": []
   },
   "outputs": [],
   "source": [
    "X = dataframe.drop(['Diabetes_012','Education','Income'], axis=1)   \n",
    "y = dataframe['Diabetes_012']"
   ]
  },
  {
   "cell_type": "code",
   "execution_count": 15,
   "id": "b6a4a60c",
   "metadata": {
    "execution": {
     "iopub.execute_input": "2025-01-02T19:51:08.508979Z",
     "iopub.status.busy": "2025-01-02T19:51:08.508622Z",
     "iopub.status.idle": "2025-01-02T19:51:08.514748Z",
     "shell.execute_reply": "2025-01-02T19:51:08.513791Z"
    },
    "papermill": {
     "duration": 0.020949,
     "end_time": "2025-01-02T19:51:08.517002",
     "exception": false,
     "start_time": "2025-01-02T19:51:08.496053",
     "status": "completed"
    },
    "tags": []
   },
   "outputs": [],
   "source": [
    "y = dataframe['Diabetes_012'].astype(int)"
   ]
  },
  {
   "cell_type": "markdown",
   "id": "8b07aba0",
   "metadata": {
    "papermill": {
     "duration": 0.011479,
     "end_time": "2025-01-02T19:51:08.540256",
     "exception": false,
     "start_time": "2025-01-02T19:51:08.528777",
     "status": "completed"
    },
    "tags": []
   },
   "source": [
    "# 5. Model Training (Random Forest Classifier)"
   ]
  },
  {
   "cell_type": "code",
   "execution_count": 16,
   "id": "db644914",
   "metadata": {
    "execution": {
     "iopub.execute_input": "2025-01-02T19:51:08.565347Z",
     "iopub.status.busy": "2025-01-02T19:51:08.564959Z",
     "iopub.status.idle": "2025-01-02T19:51:08.722752Z",
     "shell.execute_reply": "2025-01-02T19:51:08.721766Z"
    },
    "papermill": {
     "duration": 0.173339,
     "end_time": "2025-01-02T19:51:08.725176",
     "exception": false,
     "start_time": "2025-01-02T19:51:08.551837",
     "status": "completed"
    },
    "tags": []
   },
   "outputs": [],
   "source": [
    "from sklearn.model_selection import train_test_split"
   ]
  },
  {
   "cell_type": "code",
   "execution_count": 17,
   "id": "5884ce8c",
   "metadata": {
    "execution": {
     "iopub.execute_input": "2025-01-02T19:51:08.752383Z",
     "iopub.status.busy": "2025-01-02T19:51:08.751060Z",
     "iopub.status.idle": "2025-01-02T19:51:08.858893Z",
     "shell.execute_reply": "2025-01-02T19:51:08.857983Z"
    },
    "papermill": {
     "duration": 0.124241,
     "end_time": "2025-01-02T19:51:08.861248",
     "exception": false,
     "start_time": "2025-01-02T19:51:08.737007",
     "status": "completed"
    },
    "tags": []
   },
   "outputs": [],
   "source": [
    "X_train, X_test, y_train, y_test = train_test_split(X,y,test_size=0.20)"
   ]
  },
  {
   "cell_type": "code",
   "execution_count": 18,
   "id": "a019d7f1",
   "metadata": {
    "execution": {
     "iopub.execute_input": "2025-01-02T19:51:08.886230Z",
     "iopub.status.busy": "2025-01-02T19:51:08.885305Z",
     "iopub.status.idle": "2025-01-02T19:51:08.976348Z",
     "shell.execute_reply": "2025-01-02T19:51:08.975497Z"
    },
    "papermill": {
     "duration": 0.105866,
     "end_time": "2025-01-02T19:51:08.978630",
     "exception": false,
     "start_time": "2025-01-02T19:51:08.872764",
     "status": "completed"
    },
    "tags": []
   },
   "outputs": [],
   "source": [
    "from sklearn.ensemble import RandomForestClassifier\n",
    "classifier = RandomForestClassifier(n_estimators=200)"
   ]
  },
  {
   "cell_type": "code",
   "execution_count": 19,
   "id": "d79a4ef0",
   "metadata": {
    "execution": {
     "iopub.execute_input": "2025-01-02T19:51:09.003438Z",
     "iopub.status.busy": "2025-01-02T19:51:09.002678Z",
     "iopub.status.idle": "2025-01-02T19:51:56.305466Z",
     "shell.execute_reply": "2025-01-02T19:51:56.304383Z"
    },
    "papermill": {
     "duration": 47.329809,
     "end_time": "2025-01-02T19:51:56.320005",
     "exception": false,
     "start_time": "2025-01-02T19:51:08.990196",
     "status": "completed"
    },
    "tags": []
   },
   "outputs": [
    {
     "data": {
      "text/html": [
       "<style>#sk-container-id-1 {\n",
       "  /* Definition of color scheme common for light and dark mode */\n",
       "  --sklearn-color-text: #000;\n",
       "  --sklearn-color-text-muted: #666;\n",
       "  --sklearn-color-line: gray;\n",
       "  /* Definition of color scheme for unfitted estimators */\n",
       "  --sklearn-color-unfitted-level-0: #fff5e6;\n",
       "  --sklearn-color-unfitted-level-1: #f6e4d2;\n",
       "  --sklearn-color-unfitted-level-2: #ffe0b3;\n",
       "  --sklearn-color-unfitted-level-3: chocolate;\n",
       "  /* Definition of color scheme for fitted estimators */\n",
       "  --sklearn-color-fitted-level-0: #f0f8ff;\n",
       "  --sklearn-color-fitted-level-1: #d4ebff;\n",
       "  --sklearn-color-fitted-level-2: #b3dbfd;\n",
       "  --sklearn-color-fitted-level-3: cornflowerblue;\n",
       "\n",
       "  /* Specific color for light theme */\n",
       "  --sklearn-color-text-on-default-background: var(--sg-text-color, var(--theme-code-foreground, var(--jp-content-font-color1, black)));\n",
       "  --sklearn-color-background: var(--sg-background-color, var(--theme-background, var(--jp-layout-color0, white)));\n",
       "  --sklearn-color-border-box: var(--sg-text-color, var(--theme-code-foreground, var(--jp-content-font-color1, black)));\n",
       "  --sklearn-color-icon: #696969;\n",
       "\n",
       "  @media (prefers-color-scheme: dark) {\n",
       "    /* Redefinition of color scheme for dark theme */\n",
       "    --sklearn-color-text-on-default-background: var(--sg-text-color, var(--theme-code-foreground, var(--jp-content-font-color1, white)));\n",
       "    --sklearn-color-background: var(--sg-background-color, var(--theme-background, var(--jp-layout-color0, #111)));\n",
       "    --sklearn-color-border-box: var(--sg-text-color, var(--theme-code-foreground, var(--jp-content-font-color1, white)));\n",
       "    --sklearn-color-icon: #878787;\n",
       "  }\n",
       "}\n",
       "\n",
       "#sk-container-id-1 {\n",
       "  color: var(--sklearn-color-text);\n",
       "}\n",
       "\n",
       "#sk-container-id-1 pre {\n",
       "  padding: 0;\n",
       "}\n",
       "\n",
       "#sk-container-id-1 input.sk-hidden--visually {\n",
       "  border: 0;\n",
       "  clip: rect(1px 1px 1px 1px);\n",
       "  clip: rect(1px, 1px, 1px, 1px);\n",
       "  height: 1px;\n",
       "  margin: -1px;\n",
       "  overflow: hidden;\n",
       "  padding: 0;\n",
       "  position: absolute;\n",
       "  width: 1px;\n",
       "}\n",
       "\n",
       "#sk-container-id-1 div.sk-dashed-wrapped {\n",
       "  border: 1px dashed var(--sklearn-color-line);\n",
       "  margin: 0 0.4em 0.5em 0.4em;\n",
       "  box-sizing: border-box;\n",
       "  padding-bottom: 0.4em;\n",
       "  background-color: var(--sklearn-color-background);\n",
       "}\n",
       "\n",
       "#sk-container-id-1 div.sk-container {\n",
       "  /* jupyter's `normalize.less` sets `[hidden] { display: none; }`\n",
       "     but bootstrap.min.css set `[hidden] { display: none !important; }`\n",
       "     so we also need the `!important` here to be able to override the\n",
       "     default hidden behavior on the sphinx rendered scikit-learn.org.\n",
       "     See: https://github.com/scikit-learn/scikit-learn/issues/21755 */\n",
       "  display: inline-block !important;\n",
       "  position: relative;\n",
       "}\n",
       "\n",
       "#sk-container-id-1 div.sk-text-repr-fallback {\n",
       "  display: none;\n",
       "}\n",
       "\n",
       "div.sk-parallel-item,\n",
       "div.sk-serial,\n",
       "div.sk-item {\n",
       "  /* draw centered vertical line to link estimators */\n",
       "  background-image: linear-gradient(var(--sklearn-color-text-on-default-background), var(--sklearn-color-text-on-default-background));\n",
       "  background-size: 2px 100%;\n",
       "  background-repeat: no-repeat;\n",
       "  background-position: center center;\n",
       "}\n",
       "\n",
       "/* Parallel-specific style estimator block */\n",
       "\n",
       "#sk-container-id-1 div.sk-parallel-item::after {\n",
       "  content: \"\";\n",
       "  width: 100%;\n",
       "  border-bottom: 2px solid var(--sklearn-color-text-on-default-background);\n",
       "  flex-grow: 1;\n",
       "}\n",
       "\n",
       "#sk-container-id-1 div.sk-parallel {\n",
       "  display: flex;\n",
       "  align-items: stretch;\n",
       "  justify-content: center;\n",
       "  background-color: var(--sklearn-color-background);\n",
       "  position: relative;\n",
       "}\n",
       "\n",
       "#sk-container-id-1 div.sk-parallel-item {\n",
       "  display: flex;\n",
       "  flex-direction: column;\n",
       "}\n",
       "\n",
       "#sk-container-id-1 div.sk-parallel-item:first-child::after {\n",
       "  align-self: flex-end;\n",
       "  width: 50%;\n",
       "}\n",
       "\n",
       "#sk-container-id-1 div.sk-parallel-item:last-child::after {\n",
       "  align-self: flex-start;\n",
       "  width: 50%;\n",
       "}\n",
       "\n",
       "#sk-container-id-1 div.sk-parallel-item:only-child::after {\n",
       "  width: 0;\n",
       "}\n",
       "\n",
       "/* Serial-specific style estimator block */\n",
       "\n",
       "#sk-container-id-1 div.sk-serial {\n",
       "  display: flex;\n",
       "  flex-direction: column;\n",
       "  align-items: center;\n",
       "  background-color: var(--sklearn-color-background);\n",
       "  padding-right: 1em;\n",
       "  padding-left: 1em;\n",
       "}\n",
       "\n",
       "\n",
       "/* Toggleable style: style used for estimator/Pipeline/ColumnTransformer box that is\n",
       "clickable and can be expanded/collapsed.\n",
       "- Pipeline and ColumnTransformer use this feature and define the default style\n",
       "- Estimators will overwrite some part of the style using the `sk-estimator` class\n",
       "*/\n",
       "\n",
       "/* Pipeline and ColumnTransformer style (default) */\n",
       "\n",
       "#sk-container-id-1 div.sk-toggleable {\n",
       "  /* Default theme specific background. It is overwritten whether we have a\n",
       "  specific estimator or a Pipeline/ColumnTransformer */\n",
       "  background-color: var(--sklearn-color-background);\n",
       "}\n",
       "\n",
       "/* Toggleable label */\n",
       "#sk-container-id-1 label.sk-toggleable__label {\n",
       "  cursor: pointer;\n",
       "  display: flex;\n",
       "  width: 100%;\n",
       "  margin-bottom: 0;\n",
       "  padding: 0.5em;\n",
       "  box-sizing: border-box;\n",
       "  text-align: center;\n",
       "  align-items: start;\n",
       "  justify-content: space-between;\n",
       "  gap: 0.5em;\n",
       "}\n",
       "\n",
       "#sk-container-id-1 label.sk-toggleable__label .caption {\n",
       "  font-size: 0.6rem;\n",
       "  font-weight: lighter;\n",
       "  color: var(--sklearn-color-text-muted);\n",
       "}\n",
       "\n",
       "#sk-container-id-1 label.sk-toggleable__label-arrow:before {\n",
       "  /* Arrow on the left of the label */\n",
       "  content: \"▸\";\n",
       "  float: left;\n",
       "  margin-right: 0.25em;\n",
       "  color: var(--sklearn-color-icon);\n",
       "}\n",
       "\n",
       "#sk-container-id-1 label.sk-toggleable__label-arrow:hover:before {\n",
       "  color: var(--sklearn-color-text);\n",
       "}\n",
       "\n",
       "/* Toggleable content - dropdown */\n",
       "\n",
       "#sk-container-id-1 div.sk-toggleable__content {\n",
       "  max-height: 0;\n",
       "  max-width: 0;\n",
       "  overflow: hidden;\n",
       "  text-align: left;\n",
       "  /* unfitted */\n",
       "  background-color: var(--sklearn-color-unfitted-level-0);\n",
       "}\n",
       "\n",
       "#sk-container-id-1 div.sk-toggleable__content.fitted {\n",
       "  /* fitted */\n",
       "  background-color: var(--sklearn-color-fitted-level-0);\n",
       "}\n",
       "\n",
       "#sk-container-id-1 div.sk-toggleable__content pre {\n",
       "  margin: 0.2em;\n",
       "  border-radius: 0.25em;\n",
       "  color: var(--sklearn-color-text);\n",
       "  /* unfitted */\n",
       "  background-color: var(--sklearn-color-unfitted-level-0);\n",
       "}\n",
       "\n",
       "#sk-container-id-1 div.sk-toggleable__content.fitted pre {\n",
       "  /* unfitted */\n",
       "  background-color: var(--sklearn-color-fitted-level-0);\n",
       "}\n",
       "\n",
       "#sk-container-id-1 input.sk-toggleable__control:checked~div.sk-toggleable__content {\n",
       "  /* Expand drop-down */\n",
       "  max-height: 200px;\n",
       "  max-width: 100%;\n",
       "  overflow: auto;\n",
       "}\n",
       "\n",
       "#sk-container-id-1 input.sk-toggleable__control:checked~label.sk-toggleable__label-arrow:before {\n",
       "  content: \"▾\";\n",
       "}\n",
       "\n",
       "/* Pipeline/ColumnTransformer-specific style */\n",
       "\n",
       "#sk-container-id-1 div.sk-label input.sk-toggleable__control:checked~label.sk-toggleable__label {\n",
       "  color: var(--sklearn-color-text);\n",
       "  background-color: var(--sklearn-color-unfitted-level-2);\n",
       "}\n",
       "\n",
       "#sk-container-id-1 div.sk-label.fitted input.sk-toggleable__control:checked~label.sk-toggleable__label {\n",
       "  background-color: var(--sklearn-color-fitted-level-2);\n",
       "}\n",
       "\n",
       "/* Estimator-specific style */\n",
       "\n",
       "/* Colorize estimator box */\n",
       "#sk-container-id-1 div.sk-estimator input.sk-toggleable__control:checked~label.sk-toggleable__label {\n",
       "  /* unfitted */\n",
       "  background-color: var(--sklearn-color-unfitted-level-2);\n",
       "}\n",
       "\n",
       "#sk-container-id-1 div.sk-estimator.fitted input.sk-toggleable__control:checked~label.sk-toggleable__label {\n",
       "  /* fitted */\n",
       "  background-color: var(--sklearn-color-fitted-level-2);\n",
       "}\n",
       "\n",
       "#sk-container-id-1 div.sk-label label.sk-toggleable__label,\n",
       "#sk-container-id-1 div.sk-label label {\n",
       "  /* The background is the default theme color */\n",
       "  color: var(--sklearn-color-text-on-default-background);\n",
       "}\n",
       "\n",
       "/* On hover, darken the color of the background */\n",
       "#sk-container-id-1 div.sk-label:hover label.sk-toggleable__label {\n",
       "  color: var(--sklearn-color-text);\n",
       "  background-color: var(--sklearn-color-unfitted-level-2);\n",
       "}\n",
       "\n",
       "/* Label box, darken color on hover, fitted */\n",
       "#sk-container-id-1 div.sk-label.fitted:hover label.sk-toggleable__label.fitted {\n",
       "  color: var(--sklearn-color-text);\n",
       "  background-color: var(--sklearn-color-fitted-level-2);\n",
       "}\n",
       "\n",
       "/* Estimator label */\n",
       "\n",
       "#sk-container-id-1 div.sk-label label {\n",
       "  font-family: monospace;\n",
       "  font-weight: bold;\n",
       "  display: inline-block;\n",
       "  line-height: 1.2em;\n",
       "}\n",
       "\n",
       "#sk-container-id-1 div.sk-label-container {\n",
       "  text-align: center;\n",
       "}\n",
       "\n",
       "/* Estimator-specific */\n",
       "#sk-container-id-1 div.sk-estimator {\n",
       "  font-family: monospace;\n",
       "  border: 1px dotted var(--sklearn-color-border-box);\n",
       "  border-radius: 0.25em;\n",
       "  box-sizing: border-box;\n",
       "  margin-bottom: 0.5em;\n",
       "  /* unfitted */\n",
       "  background-color: var(--sklearn-color-unfitted-level-0);\n",
       "}\n",
       "\n",
       "#sk-container-id-1 div.sk-estimator.fitted {\n",
       "  /* fitted */\n",
       "  background-color: var(--sklearn-color-fitted-level-0);\n",
       "}\n",
       "\n",
       "/* on hover */\n",
       "#sk-container-id-1 div.sk-estimator:hover {\n",
       "  /* unfitted */\n",
       "  background-color: var(--sklearn-color-unfitted-level-2);\n",
       "}\n",
       "\n",
       "#sk-container-id-1 div.sk-estimator.fitted:hover {\n",
       "  /* fitted */\n",
       "  background-color: var(--sklearn-color-fitted-level-2);\n",
       "}\n",
       "\n",
       "/* Specification for estimator info (e.g. \"i\" and \"?\") */\n",
       "\n",
       "/* Common style for \"i\" and \"?\" */\n",
       "\n",
       ".sk-estimator-doc-link,\n",
       "a:link.sk-estimator-doc-link,\n",
       "a:visited.sk-estimator-doc-link {\n",
       "  float: right;\n",
       "  font-size: smaller;\n",
       "  line-height: 1em;\n",
       "  font-family: monospace;\n",
       "  background-color: var(--sklearn-color-background);\n",
       "  border-radius: 1em;\n",
       "  height: 1em;\n",
       "  width: 1em;\n",
       "  text-decoration: none !important;\n",
       "  margin-left: 0.5em;\n",
       "  text-align: center;\n",
       "  /* unfitted */\n",
       "  border: var(--sklearn-color-unfitted-level-1) 1pt solid;\n",
       "  color: var(--sklearn-color-unfitted-level-1);\n",
       "}\n",
       "\n",
       ".sk-estimator-doc-link.fitted,\n",
       "a:link.sk-estimator-doc-link.fitted,\n",
       "a:visited.sk-estimator-doc-link.fitted {\n",
       "  /* fitted */\n",
       "  border: var(--sklearn-color-fitted-level-1) 1pt solid;\n",
       "  color: var(--sklearn-color-fitted-level-1);\n",
       "}\n",
       "\n",
       "/* On hover */\n",
       "div.sk-estimator:hover .sk-estimator-doc-link:hover,\n",
       ".sk-estimator-doc-link:hover,\n",
       "div.sk-label-container:hover .sk-estimator-doc-link:hover,\n",
       ".sk-estimator-doc-link:hover {\n",
       "  /* unfitted */\n",
       "  background-color: var(--sklearn-color-unfitted-level-3);\n",
       "  color: var(--sklearn-color-background);\n",
       "  text-decoration: none;\n",
       "}\n",
       "\n",
       "div.sk-estimator.fitted:hover .sk-estimator-doc-link.fitted:hover,\n",
       ".sk-estimator-doc-link.fitted:hover,\n",
       "div.sk-label-container:hover .sk-estimator-doc-link.fitted:hover,\n",
       ".sk-estimator-doc-link.fitted:hover {\n",
       "  /* fitted */\n",
       "  background-color: var(--sklearn-color-fitted-level-3);\n",
       "  color: var(--sklearn-color-background);\n",
       "  text-decoration: none;\n",
       "}\n",
       "\n",
       "/* Span, style for the box shown on hovering the info icon */\n",
       ".sk-estimator-doc-link span {\n",
       "  display: none;\n",
       "  z-index: 9999;\n",
       "  position: relative;\n",
       "  font-weight: normal;\n",
       "  right: .2ex;\n",
       "  padding: .5ex;\n",
       "  margin: .5ex;\n",
       "  width: min-content;\n",
       "  min-width: 20ex;\n",
       "  max-width: 50ex;\n",
       "  color: var(--sklearn-color-text);\n",
       "  box-shadow: 2pt 2pt 4pt #999;\n",
       "  /* unfitted */\n",
       "  background: var(--sklearn-color-unfitted-level-0);\n",
       "  border: .5pt solid var(--sklearn-color-unfitted-level-3);\n",
       "}\n",
       "\n",
       ".sk-estimator-doc-link.fitted span {\n",
       "  /* fitted */\n",
       "  background: var(--sklearn-color-fitted-level-0);\n",
       "  border: var(--sklearn-color-fitted-level-3);\n",
       "}\n",
       "\n",
       ".sk-estimator-doc-link:hover span {\n",
       "  display: block;\n",
       "}\n",
       "\n",
       "/* \"?\"-specific style due to the `<a>` HTML tag */\n",
       "\n",
       "#sk-container-id-1 a.estimator_doc_link {\n",
       "  float: right;\n",
       "  font-size: 1rem;\n",
       "  line-height: 1em;\n",
       "  font-family: monospace;\n",
       "  background-color: var(--sklearn-color-background);\n",
       "  border-radius: 1rem;\n",
       "  height: 1rem;\n",
       "  width: 1rem;\n",
       "  text-decoration: none;\n",
       "  /* unfitted */\n",
       "  color: var(--sklearn-color-unfitted-level-1);\n",
       "  border: var(--sklearn-color-unfitted-level-1) 1pt solid;\n",
       "}\n",
       "\n",
       "#sk-container-id-1 a.estimator_doc_link.fitted {\n",
       "  /* fitted */\n",
       "  border: var(--sklearn-color-fitted-level-1) 1pt solid;\n",
       "  color: var(--sklearn-color-fitted-level-1);\n",
       "}\n",
       "\n",
       "/* On hover */\n",
       "#sk-container-id-1 a.estimator_doc_link:hover {\n",
       "  /* unfitted */\n",
       "  background-color: var(--sklearn-color-unfitted-level-3);\n",
       "  color: var(--sklearn-color-background);\n",
       "  text-decoration: none;\n",
       "}\n",
       "\n",
       "#sk-container-id-1 a.estimator_doc_link.fitted:hover {\n",
       "  /* fitted */\n",
       "  background-color: var(--sklearn-color-fitted-level-3);\n",
       "}\n",
       "</style><div id=\"sk-container-id-1\" class=\"sk-top-container\"><div class=\"sk-text-repr-fallback\"><pre>RandomForestClassifier(n_estimators=200)</pre><b>In a Jupyter environment, please rerun this cell to show the HTML representation or trust the notebook. <br />On GitHub, the HTML representation is unable to render, please try loading this page with nbviewer.org.</b></div><div class=\"sk-container\" hidden><div class=\"sk-item\"><div class=\"sk-estimator fitted sk-toggleable\"><input class=\"sk-toggleable__control sk-hidden--visually\" id=\"sk-estimator-id-1\" type=\"checkbox\" checked><label for=\"sk-estimator-id-1\" class=\"sk-toggleable__label fitted sk-toggleable__label-arrow\"><div><div>RandomForestClassifier</div></div><div><a class=\"sk-estimator-doc-link fitted\" rel=\"noreferrer\" target=\"_blank\" href=\"https://scikit-learn.org/1.6/modules/generated/sklearn.ensemble.RandomForestClassifier.html\">?<span>Documentation for RandomForestClassifier</span></a><span class=\"sk-estimator-doc-link fitted\">i<span>Fitted</span></span></div></label><div class=\"sk-toggleable__content fitted\"><pre>RandomForestClassifier(n_estimators=200)</pre></div> </div></div></div></div>"
      ],
      "text/plain": [
       "RandomForestClassifier(n_estimators=200)"
      ]
     },
     "execution_count": 19,
     "metadata": {},
     "output_type": "execute_result"
    }
   ],
   "source": [
    "classifier.fit(X=X_train,y=y_train)"
   ]
  },
  {
   "cell_type": "markdown",
   "id": "e4ea6fd4",
   "metadata": {
    "papermill": {
     "duration": 0.011628,
     "end_time": "2025-01-02T19:51:56.343781",
     "exception": false,
     "start_time": "2025-01-02T19:51:56.332153",
     "status": "completed"
    },
    "tags": []
   },
   "source": [
    "# 6. Prediciton and Metrics"
   ]
  },
  {
   "cell_type": "code",
   "execution_count": 20,
   "id": "add5ed9c",
   "metadata": {
    "execution": {
     "iopub.execute_input": "2025-01-02T19:51:56.369232Z",
     "iopub.status.busy": "2025-01-02T19:51:56.368848Z",
     "iopub.status.idle": "2025-01-02T19:51:59.974557Z",
     "shell.execute_reply": "2025-01-02T19:51:59.973628Z"
    },
    "papermill": {
     "duration": 3.621205,
     "end_time": "2025-01-02T19:51:59.976909",
     "exception": false,
     "start_time": "2025-01-02T19:51:56.355704",
     "status": "completed"
    },
    "tags": []
   },
   "outputs": [],
   "source": [
    "test_pred = classifier.predict(X_test)"
   ]
  },
  {
   "cell_type": "code",
   "execution_count": 21,
   "id": "d75eb455",
   "metadata": {
    "execution": {
     "iopub.execute_input": "2025-01-02T19:52:00.003005Z",
     "iopub.status.busy": "2025-01-02T19:52:00.002074Z",
     "iopub.status.idle": "2025-01-02T19:52:00.006956Z",
     "shell.execute_reply": "2025-01-02T19:52:00.005787Z"
    },
    "papermill": {
     "duration": 0.019881,
     "end_time": "2025-01-02T19:52:00.008989",
     "exception": false,
     "start_time": "2025-01-02T19:51:59.989108",
     "status": "completed"
    },
    "tags": []
   },
   "outputs": [],
   "source": [
    "from sklearn.metrics import accuracy_score, confusion_matrix"
   ]
  },
  {
   "cell_type": "code",
   "execution_count": 22,
   "id": "e876b4e1",
   "metadata": {
    "execution": {
     "iopub.execute_input": "2025-01-02T19:52:00.035030Z",
     "iopub.status.busy": "2025-01-02T19:52:00.034324Z",
     "iopub.status.idle": "2025-01-02T19:52:00.042110Z",
     "shell.execute_reply": "2025-01-02T19:52:00.041393Z"
    },
    "papermill": {
     "duration": 0.022679,
     "end_time": "2025-01-02T19:52:00.044054",
     "exception": false,
     "start_time": "2025-01-02T19:52:00.021375",
     "status": "completed"
    },
    "tags": []
   },
   "outputs": [],
   "source": [
    "accuracy = accuracy_score(y_test,test_pred)"
   ]
  },
  {
   "cell_type": "code",
   "execution_count": 23,
   "id": "80edde7c",
   "metadata": {
    "execution": {
     "iopub.execute_input": "2025-01-02T19:52:00.070467Z",
     "iopub.status.busy": "2025-01-02T19:52:00.069552Z",
     "iopub.status.idle": "2025-01-02T19:52:00.074845Z",
     "shell.execute_reply": "2025-01-02T19:52:00.073917Z"
    },
    "papermill": {
     "duration": 0.020343,
     "end_time": "2025-01-02T19:52:00.076823",
     "exception": false,
     "start_time": "2025-01-02T19:52:00.056480",
     "status": "completed"
    },
    "tags": []
   },
   "outputs": [
    {
     "name": "stdout",
     "output_type": "stream",
     "text": [
      "Accuracy score is 83.42991169977924\n"
     ]
    }
   ],
   "source": [
    "print('Accuracy score is '+ str((accuracy * 100 )) )"
   ]
  },
  {
   "cell_type": "code",
   "execution_count": 24,
   "id": "96da4ca7",
   "metadata": {
    "execution": {
     "iopub.execute_input": "2025-01-02T19:52:00.102184Z",
     "iopub.status.busy": "2025-01-02T19:52:00.101813Z",
     "iopub.status.idle": "2025-01-02T19:52:00.106268Z",
     "shell.execute_reply": "2025-01-02T19:52:00.105309Z"
    },
    "papermill": {
     "duration": 0.01941,
     "end_time": "2025-01-02T19:52:00.108267",
     "exception": false,
     "start_time": "2025-01-02T19:52:00.088857",
     "status": "completed"
    },
    "tags": []
   },
   "outputs": [],
   "source": [
    "from sklearn.metrics import confusion_matrix\n",
    "import seaborn as sns"
   ]
  },
  {
   "cell_type": "code",
   "execution_count": 25,
   "id": "1ede6591",
   "metadata": {
    "execution": {
     "iopub.execute_input": "2025-01-02T19:52:00.133829Z",
     "iopub.status.busy": "2025-01-02T19:52:00.133462Z",
     "iopub.status.idle": "2025-01-02T19:52:00.143071Z",
     "shell.execute_reply": "2025-01-02T19:52:00.142084Z"
    },
    "papermill": {
     "duration": 0.024672,
     "end_time": "2025-01-02T19:52:00.145002",
     "exception": false,
     "start_time": "2025-01-02T19:52:00.120330",
     "status": "completed"
    },
    "tags": []
   },
   "outputs": [],
   "source": [
    "cm = confusion_matrix(y_test, test_pred)"
   ]
  },
  {
   "cell_type": "code",
   "execution_count": 26,
   "id": "8db91b4e",
   "metadata": {
    "execution": {
     "iopub.execute_input": "2025-01-02T19:52:00.171441Z",
     "iopub.status.busy": "2025-01-02T19:52:00.170567Z",
     "iopub.status.idle": "2025-01-02T19:52:00.450420Z",
     "shell.execute_reply": "2025-01-02T19:52:00.449393Z"
    },
    "papermill": {
     "duration": 0.295117,
     "end_time": "2025-01-02T19:52:00.452575",
     "exception": false,
     "start_time": "2025-01-02T19:52:00.157458",
     "status": "completed"
    },
    "tags": []
   },
   "outputs": [
    {
     "data": {
      "image/png": "[encoded data removed]",
      "text/plain": [
       "<Figure size 600x500 with 2 Axes>"
      ]
     },
     "metadata": {},
     "output_type": "display_data"
    }
   ],
   "source": [
    "plt.figure(figsize=(6, 5))\n",
    "sns.heatmap(cm, annot=True, fmt='d', cmap='Blues', xticklabels=['No Diabetes', 'Pre Diabetes','Diabetes'], yticklabels=['No Diabetes', 'Pre Diabetes','Diabetes'])\n",
    "plt.title('Confusion Matrix')\n",
    "plt.xlabel('Predicted')\n",
    "plt.ylabel('Actual')\n",
    "plt.show()"
   ]
  },
  {
   "cell_type": "code",
   "execution_count": 27,
   "id": "4ef261f1",
   "metadata": {
    "execution": {
     "iopub.execute_input": "2025-01-02T19:52:00.479642Z",
     "iopub.status.busy": "2025-01-02T19:52:00.479261Z",
     "iopub.status.idle": "2025-01-02T19:52:00.484539Z",
     "shell.execute_reply": "2025-01-02T19:52:00.483508Z"
    },
    "papermill": {
     "duration": 0.021411,
     "end_time": "2025-01-02T19:52:00.486692",
     "exception": false,
     "start_time": "2025-01-02T19:52:00.465281",
     "status": "completed"
    },
    "tags": []
   },
   "outputs": [
    {
     "name": "stdout",
     "output_type": "stream",
     "text": [
      "Confusion Matrix:\n",
      "[[40718    66  1945]\n",
      " [  789     4   126]\n",
      " [ 5467    14  1607]]\n"
     ]
    }
   ],
   "source": [
    "print('Confusion Matrix:')\n",
    "print(cm)"
   ]
  },
  {
   "cell_type": "code",
   "execution_count": 28,
   "id": "eb169b37",
   "metadata": {
    "execution": {
     "iopub.execute_input": "2025-01-02T19:52:00.513643Z",
     "iopub.status.busy": "2025-01-02T19:52:00.513276Z",
     "iopub.status.idle": "2025-01-02T19:52:24.174192Z",
     "shell.execute_reply": "2025-01-02T19:52:24.173087Z"
    },
    "papermill": {
     "duration": 23.676972,
     "end_time": "2025-01-02T19:52:24.176333",
     "exception": false,
     "start_time": "2025-01-02T19:52:00.499361",
     "status": "completed"
    },
    "tags": []
   },
   "outputs": [
    {
     "data": {
      "text/html": [
       "<style>#sk-container-id-2 {\n",
       "  /* Definition of color scheme common for light and dark mode */\n",
       "  --sklearn-color-text: #000;\n",
       "  --sklearn-color-text-muted: #666;\n",
       "  --sklearn-color-line: gray;\n",
       "  /* Definition of color scheme for unfitted estimators */\n",
       "  --sklearn-color-unfitted-level-0: #fff5e6;\n",
       "  --sklearn-color-unfitted-level-1: #f6e4d2;\n",
       "  --sklearn-color-unfitted-level-2: #ffe0b3;\n",
       "  --sklearn-color-unfitted-level-3: chocolate;\n",
       "  /* Definition of color scheme for fitted estimators */\n",
       "  --sklearn-color-fitted-level-0: #f0f8ff;\n",
       "  --sklearn-color-fitted-level-1: #d4ebff;\n",
       "  --sklearn-color-fitted-level-2: #b3dbfd;\n",
       "  --sklearn-color-fitted-level-3: cornflowerblue;\n",
       "\n",
       "  /* Specific color for light theme */\n",
       "  --sklearn-color-text-on-default-background: var(--sg-text-color, var(--theme-code-foreground, var(--jp-content-font-color1, black)));\n",
       "  --sklearn-color-background: var(--sg-background-color, var(--theme-background, var(--jp-layout-color0, white)));\n",
       "  --sklearn-color-border-box: var(--sg-text-color, var(--theme-code-foreground, var(--jp-content-font-color1, black)));\n",
       "  --sklearn-color-icon: #696969;\n",
       "\n",
       "  @media (prefers-color-scheme: dark) {\n",
       "    /* Redefinition of color scheme for dark theme */\n",
       "    --sklearn-color-text-on-default-background: var(--sg-text-color, var(--theme-code-foreground, var(--jp-content-font-color1, white)));\n",
       "    --sklearn-color-background: var(--sg-background-color, var(--theme-background, var(--jp-layout-color0, #111)));\n",
       "    --sklearn-color-border-box: var(--sg-text-color, var(--theme-code-foreground, var(--jp-content-font-color1, white)));\n",
       "    --sklearn-color-icon: #878787;\n",
       "  }\n",
       "}\n",
       "\n",
       "#sk-container-id-2 {\n",
       "  color: var(--sklearn-color-text);\n",
       "}\n",
       "\n",
       "#sk-container-id-2 pre {\n",
       "  padding: 0;\n",
       "}\n",
       "\n",
       "#sk-container-id-2 input.sk-hidden--visually {\n",
       "  border: 0;\n",
       "  clip: rect(1px 1px 1px 1px);\n",
       "  clip: rect(1px, 1px, 1px, 1px);\n",
       "  height: 1px;\n",
       "  margin: -1px;\n",
       "  overflow: hidden;\n",
       "  padding: 0;\n",
       "  position: absolute;\n",
       "  width: 1px;\n",
       "}\n",
       "\n",
       "#sk-container-id-2 div.sk-dashed-wrapped {\n",
       "  border: 1px dashed var(--sklearn-color-line);\n",
       "  margin: 0 0.4em 0.5em 0.4em;\n",
       "  box-sizing: border-box;\n",
       "  padding-bottom: 0.4em;\n",
       "  background-color: var(--sklearn-color-background);\n",
       "}\n",
       "\n",
       "#sk-container-id-2 div.sk-container {\n",
       "  /* jupyter's `normalize.less` sets `[hidden] { display: none; }`\n",
       "     but bootstrap.min.css set `[hidden] { display: none !important; }`\n",
       "     so we also need the `!important` here to be able to override the\n",
       "     default hidden behavior on the sphinx rendered scikit-learn.org.\n",
       "     See: https://github.com/scikit-learn/scikit-learn/issues/21755 */\n",
       "  display: inline-block !important;\n",
       "  position: relative;\n",
       "}\n",
       "\n",
       "#sk-container-id-2 div.sk-text-repr-fallback {\n",
       "  display: none;\n",
       "}\n",
       "\n",
       "div.sk-parallel-item,\n",
       "div.sk-serial,\n",
       "div.sk-item {\n",
       "  /* draw centered vertical line to link estimators */\n",
       "  background-image: linear-gradient(var(--sklearn-color-text-on-default-background), var(--sklearn-color-text-on-default-background));\n",
       "  background-size: 2px 100%;\n",
       "  background-repeat: no-repeat;\n",
       "  background-position: center center;\n",
       "}\n",
       "\n",
       "/* Parallel-specific style estimator block */\n",
       "\n",
       "#sk-container-id-2 div.sk-parallel-item::after {\n",
       "  content: \"\";\n",
       "  width: 100%;\n",
       "  border-bottom: 2px solid var(--sklearn-color-text-on-default-background);\n",
       "  flex-grow: 1;\n",
       "}\n",
       "\n",
       "#sk-container-id-2 div.sk-parallel {\n",
       "  display: flex;\n",
       "  align-items: stretch;\n",
       "  justify-content: center;\n",
       "  background-color: var(--sklearn-color-background);\n",
       "  position: relative;\n",
       "}\n",
       "\n",
       "#sk-container-id-2 div.sk-parallel-item {\n",
       "  display: flex;\n",
       "  flex-direction: column;\n",
       "}\n",
       "\n",
       "#sk-container-id-2 div.sk-parallel-item:first-child::after {\n",
       "  align-self: flex-end;\n",
       "  width: 50%;\n",
       "}\n",
       "\n",
       "#sk-container-id-2 div.sk-parallel-item:last-child::after {\n",
       "  align-self: flex-start;\n",
       "  width: 50%;\n",
       "}\n",
       "\n",
       "#sk-container-id-2 div.sk-parallel-item:only-child::after {\n",
       "  width: 0;\n",
       "}\n",
       "\n",
       "/* Serial-specific style estimator block */\n",
       "\n",
       "#sk-container-id-2 div.sk-serial {\n",
       "  display: flex;\n",
       "  flex-direction: column;\n",
       "  align-items: center;\n",
       "  background-color: var(--sklearn-color-background);\n",
       "  padding-right: 1em;\n",
       "  padding-left: 1em;\n",
       "}\n",
       "\n",
       "\n",
       "/* Toggleable style: style used for estimator/Pipeline/ColumnTransformer box that is\n",
       "clickable and can be expanded/collapsed.\n",
       "- Pipeline and ColumnTransformer use this feature and define the default style\n",
       "- Estimators will overwrite some part of the style using the `sk-estimator` class\n",
       "*/\n",
       "\n",
       "/* Pipeline and ColumnTransformer style (default) */\n",
       "\n",
       "#sk-container-id-2 div.sk-toggleable {\n",
       "  /* Default theme specific background. It is overwritten whether we have a\n",
       "  specific estimator or a Pipeline/ColumnTransformer */\n",
       "  background-color: var(--sklearn-color-background);\n",
       "}\n",
       "\n",
       "/* Toggleable label */\n",
       "#sk-container-id-2 label.sk-toggleable__label {\n",
       "  cursor: pointer;\n",
       "  display: flex;\n",
       "  width: 100%;\n",
       "  margin-bottom: 0;\n",
       "  padding: 0.5em;\n",
       "  box-sizing: border-box;\n",
       "  text-align: center;\n",
       "  align-items: start;\n",
       "  justify-content: space-between;\n",
       "  gap: 0.5em;\n",
       "}\n",
       "\n",
       "#sk-container-id-2 label.sk-toggleable__label .caption {\n",
       "  font-size: 0.6rem;\n",
       "  font-weight: lighter;\n",
       "  color: var(--sklearn-color-text-muted);\n",
       "}\n",
       "\n",
       "#sk-container-id-2 label.sk-toggleable__label-arrow:before {\n",
       "  /* Arrow on the left of the label */\n",
       "  content: \"▸\";\n",
       "  float: left;\n",
       "  margin-right: 0.25em;\n",
       "  color: var(--sklearn-color-icon);\n",
       "}\n",
       "\n",
       "#sk-container-id-2 label.sk-toggleable__label-arrow:hover:before {\n",
       "  color: var(--sklearn-color-text);\n",
       "}\n",
       "\n",
       "/* Toggleable content - dropdown */\n",
       "\n",
       "#sk-container-id-2 div.sk-toggleable__content {\n",
       "  max-height: 0;\n",
       "  max-width: 0;\n",
       "  overflow: hidden;\n",
       "  text-align: left;\n",
       "  /* unfitted */\n",
       "  background-color: var(--sklearn-color-unfitted-level-0);\n",
       "}\n",
       "\n",
       "#sk-container-id-2 div.sk-toggleable__content.fitted {\n",
       "  /* fitted */\n",
       "  background-color: var(--sklearn-color-fitted-level-0);\n",
       "}\n",
       "\n",
       "#sk-container-id-2 div.sk-toggleable__content pre {\n",
       "  margin: 0.2em;\n",
       "  border-radius: 0.25em;\n",
       "  color: var(--sklearn-color-text);\n",
       "  /* unfitted */\n",
       "  background-color: var(--sklearn-color-unfitted-level-0);\n",
       "}\n",
       "\n",
       "#sk-container-id-2 div.sk-toggleable__content.fitted pre {\n",
       "  /* unfitted */\n",
       "  background-color: var(--sklearn-color-fitted-level-0);\n",
       "}\n",
       "\n",
       "#sk-container-id-2 input.sk-toggleable__control:checked~div.sk-toggleable__content {\n",
       "  /* Expand drop-down */\n",
       "  max-height: 200px;\n",
       "  max-width: 100%;\n",
       "  overflow: auto;\n",
       "}\n",
       "\n",
       "#sk-container-id-2 input.sk-toggleable__control:checked~label.sk-toggleable__label-arrow:before {\n",
       "  content: \"▾\";\n",
       "}\n",
       "\n",
       "/* Pipeline/ColumnTransformer-specific style */\n",
       "\n",
       "#sk-container-id-2 div.sk-label input.sk-toggleable__control:checked~label.sk-toggleable__label {\n",
       "  color: var(--sklearn-color-text);\n",
       "  background-color: var(--sklearn-color-unfitted-level-2);\n",
       "}\n",
       "\n",
       "#sk-container-id-2 div.sk-label.fitted input.sk-toggleable__control:checked~label.sk-toggleable__label {\n",
       "  background-color: var(--sklearn-color-fitted-level-2);\n",
       "}\n",
       "\n",
       "/* Estimator-specific style */\n",
       "\n",
       "/* Colorize estimator box */\n",
       "#sk-container-id-2 div.sk-estimator input.sk-toggleable__control:checked~label.sk-toggleable__label {\n",
       "  /* unfitted */\n",
       "  background-color: var(--sklearn-color-unfitted-level-2);\n",
       "}\n",
       "\n",
       "#sk-container-id-2 div.sk-estimator.fitted input.sk-toggleable__control:checked~label.sk-toggleable__label {\n",
       "  /* fitted */\n",
       "  background-color: var(--sklearn-color-fitted-level-2);\n",
       "}\n",
       "\n",
       "#sk-container-id-2 div.sk-label label.sk-toggleable__label,\n",
       "#sk-container-id-2 div.sk-label label {\n",
       "  /* The background is the default theme color */\n",
       "  color: var(--sklearn-color-text-on-default-background);\n",
       "}\n",
       "\n",
       "/* On hover, darken the color of the background */\n",
       "#sk-container-id-2 div.sk-label:hover label.sk-toggleable__label {\n",
       "  color: var(--sklearn-color-text);\n",
       "  background-color: var(--sklearn-color-unfitted-level-2);\n",
       "}\n",
       "\n",
       "/* Label box, darken color on hover, fitted */\n",
       "#sk-container-id-2 div.sk-label.fitted:hover label.sk-toggleable__label.fitted {\n",
       "  color: var(--sklearn-color-text);\n",
       "  background-color: var(--sklearn-color-fitted-level-2);\n",
       "}\n",
       "\n",
       "/* Estimator label */\n",
       "\n",
       "#sk-container-id-2 div.sk-label label {\n",
       "  font-family: monospace;\n",
       "  font-weight: bold;\n",
       "  display: inline-block;\n",
       "  line-height: 1.2em;\n",
       "}\n",
       "\n",
       "#sk-container-id-2 div.sk-label-container {\n",
       "  text-align: center;\n",
       "}\n",
       "\n",
       "/* Estimator-specific */\n",
       "#sk-container-id-2 div.sk-estimator {\n",
       "  font-family: monospace;\n",
       "  border: 1px dotted var(--sklearn-color-border-box);\n",
       "  border-radius: 0.25em;\n",
       "  box-sizing: border-box;\n",
       "  margin-bottom: 0.5em;\n",
       "  /* unfitted */\n",
       "  background-color: var(--sklearn-color-unfitted-level-0);\n",
       "}\n",
       "\n",
       "#sk-container-id-2 div.sk-estimator.fitted {\n",
       "  /* fitted */\n",
       "  background-color: var(--sklearn-color-fitted-level-0);\n",
       "}\n",
       "\n",
       "/* on hover */\n",
       "#sk-container-id-2 div.sk-estimator:hover {\n",
       "  /* unfitted */\n",
       "  background-color: var(--sklearn-color-unfitted-level-2);\n",
       "}\n",
       "\n",
       "#sk-container-id-2 div.sk-estimator.fitted:hover {\n",
       "  /* fitted */\n",
       "  background-color: var(--sklearn-color-fitted-level-2);\n",
       "}\n",
       "\n",
       "/* Specification for estimator info (e.g. \"i\" and \"?\") */\n",
       "\n",
       "/* Common style for \"i\" and \"?\" */\n",
       "\n",
       ".sk-estimator-doc-link,\n",
       "a:link.sk-estimator-doc-link,\n",
       "a:visited.sk-estimator-doc-link {\n",
       "  float: right;\n",
       "  font-size: smaller;\n",
       "  line-height: 1em;\n",
       "  font-family: monospace;\n",
       "  background-color: var(--sklearn-color-background);\n",
       "  border-radius: 1em;\n",
       "  height: 1em;\n",
       "  width: 1em;\n",
       "  text-decoration: none !important;\n",
       "  margin-left: 0.5em;\n",
       "  text-align: center;\n",
       "  /* unfitted */\n",
       "  border: var(--sklearn-color-unfitted-level-1) 1pt solid;\n",
       "  color: var(--sklearn-color-unfitted-level-1);\n",
       "}\n",
       "\n",
       ".sk-estimator-doc-link.fitted,\n",
       "a:link.sk-estimator-doc-link.fitted,\n",
       "a:visited.sk-estimator-doc-link.fitted {\n",
       "  /* fitted */\n",
       "  border: var(--sklearn-color-fitted-level-1) 1pt solid;\n",
       "  color: var(--sklearn-color-fitted-level-1);\n",
       "}\n",
       "\n",
       "/* On hover */\n",
       "div.sk-estimator:hover .sk-estimator-doc-link:hover,\n",
       ".sk-estimator-doc-link:hover,\n",
       "div.sk-label-container:hover .sk-estimator-doc-link:hover,\n",
       ".sk-estimator-doc-link:hover {\n",
       "  /* unfitted */\n",
       "  background-color: var(--sklearn-color-unfitted-level-3);\n",
       "  color: var(--sklearn-color-background);\n",
       "  text-decoration: none;\n",
       "}\n",
       "\n",
       "div.sk-estimator.fitted:hover .sk-estimator-doc-link.fitted:hover,\n",
       ".sk-estimator-doc-link.fitted:hover,\n",
       "div.sk-label-container:hover .sk-estimator-doc-link.fitted:hover,\n",
       ".sk-estimator-doc-link.fitted:hover {\n",
       "  /* fitted */\n",
       "  background-color: var(--sklearn-color-fitted-level-3);\n",
       "  color: var(--sklearn-color-background);\n",
       "  text-decoration: none;\n",
       "}\n",
       "\n",
       "/* Span, style for the box shown on hovering the info icon */\n",
       ".sk-estimator-doc-link span {\n",
       "  display: none;\n",
       "  z-index: 9999;\n",
       "  position: relative;\n",
       "  font-weight: normal;\n",
       "  right: .2ex;\n",
       "  padding: .5ex;\n",
       "  margin: .5ex;\n",
       "  width: min-content;\n",
       "  min-width: 20ex;\n",
       "  max-width: 50ex;\n",
       "  color: var(--sklearn-color-text);\n",
       "  box-shadow: 2pt 2pt 4pt #999;\n",
       "  /* unfitted */\n",
       "  background: var(--sklearn-color-unfitted-level-0);\n",
       "  border: .5pt solid var(--sklearn-color-unfitted-level-3);\n",
       "}\n",
       "\n",
       ".sk-estimator-doc-link.fitted span {\n",
       "  /* fitted */\n",
       "  background: var(--sklearn-color-fitted-level-0);\n",
       "  border: var(--sklearn-color-fitted-level-3);\n",
       "}\n",
       "\n",
       ".sk-estimator-doc-link:hover span {\n",
       "  display: block;\n",
       "}\n",
       "\n",
       "/* \"?\"-specific style due to the `<a>` HTML tag */\n",
       "\n",
       "#sk-container-id-2 a.estimator_doc_link {\n",
       "  float: right;\n",
       "  font-size: 1rem;\n",
       "  line-height: 1em;\n",
       "  font-family: monospace;\n",
       "  background-color: var(--sklearn-color-background);\n",
       "  border-radius: 1rem;\n",
       "  height: 1rem;\n",
       "  width: 1rem;\n",
       "  text-decoration: none;\n",
       "  /* unfitted */\n",
       "  color: var(--sklearn-color-unfitted-level-1);\n",
       "  border: var(--sklearn-color-unfitted-level-1) 1pt solid;\n",
       "}\n",
       "\n",
       "#sk-container-id-2 a.estimator_doc_link.fitted {\n",
       "  /* fitted */\n",
       "  border: var(--sklearn-color-fitted-level-1) 1pt solid;\n",
       "  color: var(--sklearn-color-fitted-level-1);\n",
       "}\n",
       "\n",
       "/* On hover */\n",
       "#sk-container-id-2 a.estimator_doc_link:hover {\n",
       "  /* unfitted */\n",
       "  background-color: var(--sklearn-color-unfitted-level-3);\n",
       "  color: var(--sklearn-color-background);\n",
       "  text-decoration: none;\n",
       "}\n",
       "\n",
       "#sk-container-id-2 a.estimator_doc_link.fitted:hover {\n",
       "  /* fitted */\n",
       "  background-color: var(--sklearn-color-fitted-level-3);\n",
       "}\n",
       "</style><div id=\"sk-container-id-2\" class=\"sk-top-container\"><div class=\"sk-text-repr-fallback\"><pre>RandomForestClassifier()</pre><b>In a Jupyter environment, please rerun this cell to show the HTML representation or trust the notebook. <br />On GitHub, the HTML representation is unable to render, please try loading this page with nbviewer.org.</b></div><div class=\"sk-container\" hidden><div class=\"sk-item\"><div class=\"sk-estimator fitted sk-toggleable\"><input class=\"sk-toggleable__control sk-hidden--visually\" id=\"sk-estimator-id-2\" type=\"checkbox\" checked><label for=\"sk-estimator-id-2\" class=\"sk-toggleable__label fitted sk-toggleable__label-arrow\"><div><div>RandomForestClassifier</div></div><div><a class=\"sk-estimator-doc-link fitted\" rel=\"noreferrer\" target=\"_blank\" href=\"https://scikit-learn.org/1.6/modules/generated/sklearn.ensemble.RandomForestClassifier.html\">?<span>Documentation for RandomForestClassifier</span></a><span class=\"sk-estimator-doc-link fitted\">i<span>Fitted</span></span></div></label><div class=\"sk-toggleable__content fitted\"><pre>RandomForestClassifier()</pre></div> </div></div></div></div>"
      ],
      "text/plain": [
       "RandomForestClassifier()"
      ]
     },
     "execution_count": 28,
     "metadata": {},
     "output_type": "execute_result"
    }
   ],
   "source": [
    "from sklearn.ensemble import RandomForestClassifier\n",
    "\n",
    "model = RandomForestClassifier()\n",
    "model.fit(X_train, y_train)  \n"
   ]
  },
  {
   "cell_type": "code",
   "execution_count": 29,
   "id": "66765d33",
   "metadata": {
    "execution": {
     "iopub.execute_input": "2025-01-02T19:52:24.205039Z",
     "iopub.status.busy": "2025-01-02T19:52:24.204073Z",
     "iopub.status.idle": "2025-01-02T19:52:26.331591Z",
     "shell.execute_reply": "2025-01-02T19:52:26.330680Z"
    },
    "papermill": {
     "duration": 2.144261,
     "end_time": "2025-01-02T19:52:26.333886",
     "exception": false,
     "start_time": "2025-01-02T19:52:24.189625",
     "status": "completed"
    },
    "tags": []
   },
   "outputs": [],
   "source": [
    "import joblib\n",
    "\n",
    "\n",
    "joblib.dump(model, 'random_forest_model.pkl')\n",
    "model = joblib.load('random_forest_model.pkl')\n"
   ]
  },
  {
   "cell_type": "code",
   "execution_count": 30,
   "id": "74304c55",
   "metadata": {
    "execution": {
     "iopub.execute_input": "2025-01-02T19:52:26.362351Z",
     "iopub.status.busy": "2025-01-02T19:52:26.361815Z",
     "iopub.status.idle": "2025-01-02T19:52:27.693308Z",
     "shell.execute_reply": "2025-01-02T19:52:27.692164Z"
    },
    "papermill": {
     "duration": 1.349013,
     "end_time": "2025-01-02T19:52:27.696482",
     "exception": false,
     "start_time": "2025-01-02T19:52:26.347469",
     "status": "completed"
    },
    "tags": []
   },
   "outputs": [
    {
     "data": {
      "text/plain": [
       "['random_forest_model.pkl']"
      ]
     },
     "execution_count": 30,
     "metadata": {},
     "output_type": "execute_result"
    }
   ],
   "source": [
    "joblib.dump(model, 'random_forest_model.pkl')\n"
   ]
  },
  {
   "cell_type": "code",
   "execution_count": 31,
   "id": "e943e606",
   "metadata": {
    "execution": {
     "iopub.execute_input": "2025-01-02T19:52:27.731106Z",
     "iopub.status.busy": "2025-01-02T19:52:27.730241Z",
     "iopub.status.idle": "2025-01-02T19:52:28.835233Z",
     "shell.execute_reply": "2025-01-02T19:52:28.834131Z"
    },
    "papermill": {
     "duration": 1.121684,
     "end_time": "2025-01-02T19:52:28.837240",
     "exception": false,
     "start_time": "2025-01-02T19:52:27.715556",
     "status": "completed"
    },
    "tags": []
   },
   "outputs": [
    {
     "name": "stdout",
     "output_type": "stream",
     "text": [
      "Prediction: Diabetes\n",
      "Class Probabilities: [[0.29 0.08 0.63]]\n"
     ]
    }
   ],
   "source": [
    "import numpy as np\n",
    "import pandas as pd\n",
    "import joblib\n",
    "\n",
    "model = joblib.load('random_forest_model.pkl')  \n",
    "\n",
    "\n",
    "input_data = np.array([[1, 1, 1, 35, 1, 1, 1, 0, 0, 0, 0, 1, 1, 5, 8, 10, 1, 0, 60]])\n",
    "\n",
    "\n",
    "columns = ['HighBP', 'HighChol', 'CholCheck', 'BMI', 'Smoker', 'Stroke', \n",
    "           'HeartDiseaseorAttack', 'PhysActivity', 'Fruits', 'Veggies', \n",
    "           'HvyAlcoholConsump', 'AnyHealthcare', 'NoDocbcCost', 'GenHlth', \n",
    "           'MentHlth', 'PhysHlth', 'DiffWalk', 'Sex', 'Age']\n",
    "\n",
    "\n",
    "input_df = pd.DataFrame(input_data, columns=columns)\n",
    "\n",
    "\n",
    "prediction = model.predict(input_df)\n",
    "\n",
    "if prediction[0] == 0:\n",
    "    print(\"Prediction: No Diabetes\")\n",
    "elif prediction[0] == 1:\n",
    "    print(\"Prediction: Pre-Diabetes\")\n",
    "else:\n",
    "    print(\"Prediction: Diabetes\")\n",
    "\n",
    "\n",
    "probabilities = model.predict_proba(input_df)\n",
    "print(\"Class Probabilities:\", probabilities)"
   ]
  },
  {
   "cell_type": "code",
   "execution_count": 32,
   "id": "ff61a19c",
   "metadata": {
    "execution": {
     "iopub.execute_input": "2025-01-02T19:52:28.866033Z",
     "iopub.status.busy": "2025-01-02T19:52:28.865268Z",
     "iopub.status.idle": "2025-01-02T19:52:46.048994Z",
     "shell.execute_reply": "2025-01-02T19:52:46.047950Z"
    },
    "papermill": {
     "duration": 17.200532,
     "end_time": "2025-01-02T19:52:46.051243",
     "exception": false,
     "start_time": "2025-01-02T19:52:28.850711",
     "status": "completed"
    },
    "tags": []
   },
   "outputs": [
    {
     "name": "stdout",
     "output_type": "stream",
     "text": [
      "Training Accuracy: 0.97\n",
      "Test Accuracy: 0.83\n"
     ]
    }
   ],
   "source": [
    "train_accuracy = classifier.score(X_train, y_train)\n",
    "test_accuracy = classifier.score(X_test, y_test)\n",
    "\n",
    "print(f'Training Accuracy: {train_accuracy:.2f}')\n",
    "print(f'Test Accuracy: {test_accuracy:.2f}')\n"
   ]
  },
  {
   "cell_type": "code",
   "execution_count": 33,
   "id": "7ef179bd",
   "metadata": {
    "execution": {
     "iopub.execute_input": "2025-01-02T19:52:46.080148Z",
     "iopub.status.busy": "2025-01-02T19:52:46.079744Z",
     "iopub.status.idle": "2025-01-02T19:52:46.097271Z",
     "shell.execute_reply": "2025-01-02T19:52:46.095998Z"
    },
    "papermill": {
     "duration": 0.034044,
     "end_time": "2025-01-02T19:52:46.099199",
     "exception": false,
     "start_time": "2025-01-02T19:52:46.065155",
     "status": "completed"
    },
    "tags": []
   },
   "outputs": [
    {
     "name": "stdout",
     "output_type": "stream",
     "text": [
      "<class 'pandas.core.frame.DataFrame'>\n",
      "Index: 202944 entries, 10678 to 159211\n",
      "Data columns (total 19 columns):\n",
      " #   Column                Non-Null Count   Dtype\n",
      "---  ------                --------------   -----\n",
      " 0   HighBP                202944 non-null  int64\n",
      " 1   HighChol              202944 non-null  int64\n",
      " 2   CholCheck             202944 non-null  int64\n",
      " 3   BMI                   202944 non-null  int64\n",
      " 4   Smoker                202944 non-null  int64\n",
      " 5   Stroke                202944 non-null  int64\n",
      " 6   HeartDiseaseorAttack  202944 non-null  int64\n",
      " 7   PhysActivity          202944 non-null  int64\n",
      " 8   Fruits                202944 non-null  int64\n",
      " 9   Veggies               202944 non-null  int64\n",
      " 10  HvyAlcoholConsump     202944 non-null  int64\n",
      " 11  AnyHealthcare         202944 non-null  int64\n",
      " 12  NoDocbcCost           202944 non-null  int64\n",
      " 13  GenHlth               202944 non-null  int64\n",
      " 14  MentHlth              202944 non-null  int64\n",
      " 15  PhysHlth              202944 non-null  int64\n",
      " 16  DiffWalk              202944 non-null  int64\n",
      " 17  Sex                   202944 non-null  int64\n",
      " 18  Age                   202944 non-null  int64\n",
      "dtypes: int64(19)\n",
      "memory usage: 31.0 MB\n"
     ]
    }
   ],
   "source": [
    "X_train.info()"
   ]
  },
  {
   "cell_type": "markdown",
   "id": "b318f325",
   "metadata": {
    "papermill": {
     "duration": 0.012999,
     "end_time": "2025-01-02T19:52:46.125920",
     "exception": false,
     "start_time": "2025-01-02T19:52:46.112921",
     "status": "completed"
    },
    "tags": []
   },
   "source": [
    "f1 score\n"
   ]
  },
  {
   "cell_type": "code",
   "execution_count": 34,
   "id": "db3fb9c2",
   "metadata": {
    "execution": {
     "iopub.execute_input": "2025-01-02T19:52:46.154031Z",
     "iopub.status.busy": "2025-01-02T19:52:46.153670Z",
     "iopub.status.idle": "2025-01-02T19:52:46.173481Z",
     "shell.execute_reply": "2025-01-02T19:52:46.172310Z"
    },
    "papermill": {
     "duration": 0.036515,
     "end_time": "2025-01-02T19:52:46.175754",
     "exception": false,
     "start_time": "2025-01-02T19:52:46.139239",
     "status": "completed"
    },
    "tags": []
   },
   "outputs": [
    {
     "name": "stdout",
     "output_type": "stream",
     "text": [
      "F1 Score is:  0.8064182573882995\n"
     ]
    }
   ],
   "source": [
    "from sklearn.metrics import f1_score\n",
    "\n",
    "\n",
    "f1 = f1_score(y_test, test_pred, average='weighted')\n",
    "\n",
    "print('F1 Score is: ', f1)\n"
   ]
  },
  {
   "cell_type": "markdown",
   "id": "fc4c33d2",
   "metadata": {
    "papermill": {
     "duration": 0.013066,
     "end_time": "2025-01-02T19:52:46.202341",
     "exception": false,
     "start_time": "2025-01-02T19:52:46.189275",
     "status": "completed"
    },
    "tags": []
   },
   "source": [
    "#heatmap"
   ]
  },
  {
   "cell_type": "code",
   "execution_count": 35,
   "id": "79a64407",
   "metadata": {
    "execution": {
     "iopub.execute_input": "2025-01-02T19:52:46.231188Z",
     "iopub.status.busy": "2025-01-02T19:52:46.230518Z",
     "iopub.status.idle": "2025-01-02T19:53:02.975204Z",
     "shell.execute_reply": "2025-01-02T19:53:02.974168Z"
    },
    "papermill": {
     "duration": 16.762375,
     "end_time": "2025-01-02T19:53:02.978144",
     "exception": false,
     "start_time": "2025-01-02T19:52:46.215769",
     "status": "completed"
    },
    "tags": []
   },
   "outputs": [
    {
     "data": {
      "image/png": "[encoded data removed]",
      "text/plain": [
       "<Figure size 1000x600 with 1 Axes>"
      ]
     },
     "metadata": {},
     "output_type": "display_data"
    }
   ],
   "source": [
    "\n",
    "plt.figure(figsize=(10, 6))\n",
    "sns.scatterplot(x='Age', y='BMI', hue='Diabetes_012', data=dataframe, palette='viridis')\n",
    "plt.title('Age vs BMI Colored by Diabetes Status')\n",
    "plt.xlabel('Age')\n",
    "plt.ylabel('BMI')\n",
    "plt.legend(title='Diabetes Status')\n",
    "plt.show()\n"
   ]
  },
  {
   "cell_type": "code",
   "execution_count": 36,
   "id": "8f7a9a7f",
   "metadata": {
    "execution": {
     "iopub.execute_input": "2025-01-02T19:53:03.012885Z",
     "iopub.status.busy": "2025-01-02T19:53:03.012151Z",
     "iopub.status.idle": "2025-01-02T19:53:03.017595Z",
     "shell.execute_reply": "2025-01-02T19:53:03.016630Z"
    },
    "papermill": {
     "duration": 0.02515,
     "end_time": "2025-01-02T19:53:03.019678",
     "exception": false,
     "start_time": "2025-01-02T19:53:02.994528",
     "status": "completed"
    },
    "tags": []
   },
   "outputs": [],
   "source": [
    "res = pd.DataFrame({'actual value':y_test,'predicted value':test_pred})"
   ]
  },
  {
   "cell_type": "code",
   "execution_count": 37,
   "id": "d8399853",
   "metadata": {
    "execution": {
     "iopub.execute_input": "2025-01-02T19:53:03.055924Z",
     "iopub.status.busy": "2025-01-02T19:53:03.055025Z",
     "iopub.status.idle": "2025-01-02T19:53:03.065493Z",
     "shell.execute_reply": "2025-01-02T19:53:03.064514Z"
    },
    "papermill": {
     "duration": 0.031314,
     "end_time": "2025-01-02T19:53:03.067340",
     "exception": false,
     "start_time": "2025-01-02T19:53:03.036026",
     "status": "completed"
    },
    "tags": []
   },
   "outputs": [
    {
     "data": {
      "text/html": [
       "<div>\n",
       "<style scoped>\n",
       "    .dataframe tbody tr th:only-of-type {\n",
       "        vertical-align: middle;\n",
       "    }\n",
       "\n",
       "    .dataframe tbody tr th {\n",
       "        vertical-align: top;\n",
       "    }\n",
       "\n",
       "    .dataframe thead th {\n",
       "        text-align: right;\n",
       "    }\n",
       "</style>\n",
       "<table border=\"1\" class=\"dataframe\">\n",
       "  <thead>\n",
       "    <tr style=\"text-align: right;\">\n",
       "      <th></th>\n",
       "      <th>actual value</th>\n",
       "      <th>predicted value</th>\n",
       "    </tr>\n",
       "  </thead>\n",
       "  <tbody>\n",
       "    <tr>\n",
       "      <th>250925</th>\n",
       "      <td>0</td>\n",
       "      <td>0</td>\n",
       "    </tr>\n",
       "    <tr>\n",
       "      <th>34642</th>\n",
       "      <td>2</td>\n",
       "      <td>0</td>\n",
       "    </tr>\n",
       "    <tr>\n",
       "      <th>41130</th>\n",
       "      <td>2</td>\n",
       "      <td>0</td>\n",
       "    </tr>\n",
       "    <tr>\n",
       "      <th>93329</th>\n",
       "      <td>0</td>\n",
       "      <td>0</td>\n",
       "    </tr>\n",
       "    <tr>\n",
       "      <th>46990</th>\n",
       "      <td>0</td>\n",
       "      <td>0</td>\n",
       "    </tr>\n",
       "    <tr>\n",
       "      <th>...</th>\n",
       "      <td>...</td>\n",
       "      <td>...</td>\n",
       "    </tr>\n",
       "    <tr>\n",
       "      <th>185073</th>\n",
       "      <td>0</td>\n",
       "      <td>0</td>\n",
       "    </tr>\n",
       "    <tr>\n",
       "      <th>240196</th>\n",
       "      <td>0</td>\n",
       "      <td>0</td>\n",
       "    </tr>\n",
       "    <tr>\n",
       "      <th>240961</th>\n",
       "      <td>0</td>\n",
       "      <td>0</td>\n",
       "    </tr>\n",
       "    <tr>\n",
       "      <th>250252</th>\n",
       "      <td>2</td>\n",
       "      <td>0</td>\n",
       "    </tr>\n",
       "    <tr>\n",
       "      <th>32816</th>\n",
       "      <td>0</td>\n",
       "      <td>0</td>\n",
       "    </tr>\n",
       "  </tbody>\n",
       "</table>\n",
       "<p>50736 rows × 2 columns</p>\n",
       "</div>"
      ],
      "text/plain": [
       "        actual value  predicted value\n",
       "250925             0                0\n",
       "34642              2                0\n",
       "41130              2                0\n",
       "93329              0                0\n",
       "46990              0                0\n",
       "...              ...              ...\n",
       "185073             0                0\n",
       "240196             0                0\n",
       "240961             0                0\n",
       "250252             2                0\n",
       "32816              0                0\n",
       "\n",
       "[50736 rows x 2 columns]"
      ]
     },
     "execution_count": 37,
     "metadata": {},
     "output_type": "execute_result"
    }
   ],
   "source": [
    "res"
   ]
  },
  {
   "cell_type": "markdown",
   "id": "0ae5c9da",
   "metadata": {
    "papermill": {
     "duration": 0.016343,
     "end_time": "2025-01-02T19:53:03.100324",
     "exception": false,
     "start_time": "2025-01-02T19:53:03.083981",
     "status": "completed"
    },
    "tags": []
   },
   "source": [
    "#preformmance metrics"
   ]
  },
  {
   "cell_type": "code",
   "execution_count": 38,
   "id": "287f95fd",
   "metadata": {
    "execution": {
     "iopub.execute_input": "2025-01-02T19:53:03.134727Z",
     "iopub.status.busy": "2025-01-02T19:53:03.134368Z",
     "iopub.status.idle": "2025-01-02T19:53:03.171433Z",
     "shell.execute_reply": "2025-01-02T19:53:03.170264Z"
    },
    "papermill": {
     "duration": 0.056809,
     "end_time": "2025-01-02T19:53:03.173576",
     "exception": false,
     "start_time": "2025-01-02T19:53:03.116767",
     "status": "completed"
    },
    "tags": []
   },
   "outputs": [
    {
     "name": "stdout",
     "output_type": "stream",
     "text": [
      "Classification Report:\n",
      "              precision    recall  f1-score   support\n",
      "\n",
      " No Diabetes       0.87      0.95      0.91     42729\n",
      "Pre Diabetes       0.05      0.00      0.01       919\n",
      "    Diabetes       0.44      0.23      0.30      7088\n",
      "\n",
      "    accuracy                           0.83     50736\n",
      "   macro avg       0.45      0.39      0.40     50736\n",
      "weighted avg       0.79      0.83      0.81     50736\n",
      "\n"
     ]
    }
   ],
   "source": [
    "from sklearn.metrics import classification_report\n",
    "\n",
    "\n",
    "print(\"Classification Report:\")\n",
    "print(classification_report(y_test, test_pred, target_names=['No Diabetes', 'Pre Diabetes', 'Diabetes']))\n"
   ]
  },
  {
   "cell_type": "markdown",
   "id": "1e43968c",
   "metadata": {
    "papermill": {
     "duration": 0.01805,
     "end_time": "2025-01-02T19:53:07.257543",
     "exception": false,
     "start_time": "2025-01-02T19:53:07.239493",
     "status": "completed"
    },
    "tags": []
   },
   "source": [
    "#class distribution graph\n"
   ]
  },
  {
   "cell_type": "code",
   "execution_count": 40,
   "id": "f25f044c",
   "metadata": {
    "execution": {
     "iopub.execute_input": "2025-01-02T19:53:07.294445Z",
     "iopub.status.busy": "2025-01-02T19:53:07.294030Z",
     "iopub.status.idle": "2025-01-02T19:53:07.533277Z",
     "shell.execute_reply": "2025-01-02T19:53:07.532118Z"
    },
    "papermill": {
     "duration": 0.260397,
     "end_time": "2025-01-02T19:53:07.535591",
     "exception": false,
     "start_time": "2025-01-02T19:53:07.275194",
     "status": "completed"
    },
    "tags": []
   },
   "outputs": [
    {
     "name": "stderr",
     "output_type": "stream",
     "text": [
      "C:\\Users\\win11\\AppData\\Local\\Temp\\ipykernel_17904\\3785278083.py:2: FutureWarning: \n",
      "\n",
      "Passing `palette` without assigning `hue` is deprecated and will be removed in v0.14.0. Assign the `x` variable to `hue` and set `legend=False` for the same effect.\n",
      "\n",
      "  sns.countplot(x=dataframe['Diabetes_012'], palette=\"viridis\")\n"
     ]
    },
    {
     "data": {
      "image/png": "[encoded data removed]",
      "text/plain": [
       "<Figure size 800x600 with 1 Axes>"
      ]
     },
     "metadata": {},
     "output_type": "display_data"
    }
   ],
   "source": [
    "\n",
    "plt.figure(figsize=(8, 6))\n",
    "sns.countplot(x=dataframe['Diabetes_012'], palette=\"viridis\")\n",
    "plt.title('Class Distribution of Diabetes Categories')\n",
    "plt.xlabel('Diabetes Category')\n",
    "plt.ylabel('Count')\n",
    "plt.xticks(ticks=[0, 1, 2], labels=['No Diabetes', 'Pre Diabetes', 'Diabetes'])\n",
    "plt.grid(axis='y', linestyle='--', alpha=0.7)\n",
    "plt.show()\n"
   ]
  },
  {
   "cell_type": "code",
   "execution_count": null,
   "id": "a391f17b",
   "metadata": {
    "execution": {
     "iopub.execute_input": "2025-01-02T19:53:07.576059Z",
     "iopub.status.busy": "2025-01-02T19:53:07.575657Z",
     "iopub.status.idle": "2025-01-02T19:56:29.579310Z",
     "shell.execute_reply": "2025-01-02T19:56:29.578312Z"
    },
    "papermill": {
     "duration": 202.044487,
     "end_time": "2025-01-02T19:56:29.599790",
     "exception": false,
     "start_time": "2025-01-02T19:53:07.555303",
     "status": "completed"
    },
    "tags": []
   },
   "outputs": [
    {
     "name": "stdout",
     "output_type": "stream",
     "text": [
      "KNN Accuracy score is 82.90\n"
     ]
    }
   ],
   "source": [
    "from sklearn.neighbors import KNeighborsClassifier\n",
    "from sklearn.metrics import accuracy_score, confusion_matrix, classification_report, f1_score\n",
    "import matplotlib.pyplot as plt\n",
    "import seaborn as sns\n",
    "\n",
    "\n",
    "knn_classifier = KNeighborsClassifier(n_neighbors=5)  \n",
    "knn_classifier.fit(X_train, y_train)\n",
    "\n",
    "knn_test_pred = knn_classifier.predict(X_test)\n",
    "\n",
    "\n",
    "knn_accuracy = accuracy_score(y_test, knn_test_pred)\n",
    "print(f'KNN Accuracy score is {knn_accuracy * 100:.2f}')"
   ]
  },
  {
   "cell_type": "code",
   "execution_count": 43,
   "id": "b4936fe7",
   "metadata": {
    "execution": {
     "iopub.execute_input": "2025-01-02T19:56:30.342299Z",
     "iopub.status.busy": "2025-01-02T19:56:30.341884Z",
     "iopub.status.idle": "2025-01-02T19:56:30.419759Z",
     "shell.execute_reply": "2025-01-02T19:56:30.418750Z"
    },
    "papermill": {
     "duration": 0.102226,
     "end_time": "2025-01-02T19:56:30.421865",
     "exception": false,
     "start_time": "2025-01-02T19:56:30.319639",
     "status": "completed"
    },
    "tags": []
   },
   "outputs": [
    {
     "name": "stdout",
     "output_type": "stream",
     "text": [
      "KNN F1 Score is:  0.7991362187624144\n",
      "KNN Classification Report:\n",
      "              precision    recall  f1-score   support\n",
      "\n",
      " No Diabetes       0.86      0.95      0.91     42729\n",
      "Pre Diabetes       0.04      0.00      0.00       919\n",
      "    Diabetes       0.39      0.20      0.26      7088\n",
      "\n",
      "    accuracy                           0.83     50736\n",
      "   macro avg       0.43      0.38      0.39     50736\n",
      "weighted avg       0.78      0.83      0.80     50736\n",
      "\n",
      "KNN Model saved as knn_model.pkl\n"
     ]
    }
   ],
   "source": [
    "knn_f1 = f1_score(y_test, knn_test_pred, average='weighted')\n",
    "print('KNN F1 Score is: ', knn_f1)\n",
    "\n",
    "\n",
    "print(\"KNN Classification Report:\")\n",
    "print(classification_report(y_test, knn_test_pred, target_names=['No Diabetes', 'Pre Diabetes', 'Diabetes']))\n",
    "\n",
    "import joblib\n",
    "joblib.dump(knn_classifier, 'knn_model.pkl')\n",
    "print(\"KNN Model saved as knn_model.pkl\")"
   ]
  }
 ],
 "metadata": {
  "kaggle": {
   "accelerator": "none",
   "dataSources": [
    {
     "datasetId": 1703281,
     "sourceId": 2789260,
     "sourceType": "datasetVersion"
    }
   ],
   "dockerImageVersionId": 30804,
   "isGpuEnabled": false,
   "isInternetEnabled": true,
   "language": "python",
   "sourceType": "notebook"
  },
  "kernelspec": {
   "display_name": "Python 3",
   "language": "python",
   "name": "python3"
  },
  "language_info": {
   "codemirror_mode": {
    "name": "ipython",
    "version": 3
   },
   "file_extension": ".py",
   "mimetype": "text/x-python",
   "name": "python",
   "nbconvert_exporter": "python",
   "pygments_lexer": "ipython3",
   "version": "3.12.6"
  },
  "papermill": {
   "default_parameters": {},
   "duration": 547.386168,
   "end_time": "2025-01-02T19:59:52.174580",
   "environment_variables": {},
   "exception": null,
   "input_path": "__notebook__.ipynb",
   "output_path": "__notebook__.ipynb",
   "parameters": {},
   "start_time": "2025-01-02T19:50:44.788412",
   "version": "2.6.0"
  }
 },
 "nbformat": 4,
 "nbformat_minor": 5
}
